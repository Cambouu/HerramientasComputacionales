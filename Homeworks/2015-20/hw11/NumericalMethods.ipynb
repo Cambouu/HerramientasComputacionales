{
 "cells": [
  {
   "cell_type": "markdown",
   "metadata": {},
   "source": [
    "# First, a brute force method, scanning over certain domain to check if there is a change in the function sign at that point."
   ]
  },
  {
   "cell_type": "code",
   "execution_count": 1,
   "metadata": {
    "collapsed": false
   },
   "outputs": [
    {
     "name": "stdout",
     "output_type": "stream",
     "text": [
      "Populating the interactive namespace from numpy and matplotlib\n"
     ]
    }
   ],
   "source": [
    "%pylab inline"
   ]
  },
  {
   "cell_type": "code",
   "execution_count": 11,
   "metadata": {
    "collapsed": true
   },
   "outputs": [],
   "source": [
    "def function(x):\n",
    "#    return sin(x)\n",
    "    return x * x * x - 3 * x * x + 2 * x"
   ]
  },
  {
   "cell_type": "code",
   "execution_count": 12,
   "metadata": {
    "collapsed": false
   },
   "outputs": [
    {
     "name": "stdout",
     "output_type": "stream",
     "text": [
      "Zero found near 8.81239525796e-16\n",
      "Zero found near 1.0\n",
      "Zero found near 2.001\n"
     ]
    }
   ],
   "source": [
    "width = 0.001 # Smaller step values produce more accurate and precise results\n",
    "start = -1.0\n",
    "stop = 7.0\n",
    "\n",
    "FuncSign = function(start) > 0\n",
    "\n",
    "x = start\n",
    "while x <= stop:\n",
    "    value = function(x)\n",
    " \n",
    "    if value == 0:\n",
    "        # We hit a root\n",
    "        print \"Zero found at\", x\n",
    "    elif (value > 0) != FuncSign:\n",
    "        # We passed a root\n",
    "        print \"Zero found near\", x\n",
    " \n",
    "    # Update our sign\n",
    "    FuncSign = value > 0\n",
    " \n",
    "    x += width"
   ]
  },
  {
   "cell_type": "markdown",
   "metadata": {},
   "source": [
    "# Now we could try the bisection method, halving the search space with every step"
   ]
  },
  {
   "cell_type": "code",
   "execution_count": 15,
   "metadata": {
    "collapsed": false
   },
   "outputs": [
    {
     "name": "stdout",
     "output_type": "stream",
     "text": [
      "1.0\n"
     ]
    }
   ],
   "source": [
    "def bisection(a,b,tol):\n",
    "\tif function(a)*function(b)>0:\n",
    "\t\traise Exception('No change of sign - bisection not possible')      \n",
    "\tc = (a+b)/2.0\n",
    "\twhile (b-a)/2.0 > tol:\n",
    "\t\tif function(c) == 0:\n",
    "\t\t\treturn c\n",
    "\t\telif function(a)*function(c) < 0:\n",
    "\t\t\tb = c\n",
    "\t\telse :\n",
    "\t\t\ta = c\n",
    "\t\tc = (a+b)/2.0\n",
    "\t\t\n",
    "\treturn c\n",
    "\n",
    "print bisection(0.5, 1.5, 0.00000001)"
   ]
  },
  {
   "cell_type": "code",
   "execution_count": 16,
   "metadata": {
    "collapsed": false
   },
   "outputs": [
    {
     "name": "stdout",
     "output_type": "stream",
     "text": [
      "3.14159265359\n"
     ]
    }
   ],
   "source": [
    "print pi"
   ]
  },
  {
   "cell_type": "markdown",
   "metadata": {},
   "source": [
    "# And finally, the Newton-Raphson method"
   ]
  },
  {
   "cell_type": "code",
   "execution_count": 23,
   "metadata": {
    "collapsed": false
   },
   "outputs": [
    {
     "name": "stdout",
     "output_type": "stream",
     "text": [
      "-2.22527959479e-81\n"
     ]
    }
   ],
   "source": [
    "def f_prime(x):\n",
    "    h=0.0001\n",
    "    return (function(x+h)-function(x-h))/(2*h)\n",
    "    \n",
    "def newt(x,n):\n",
    "\tfor i in range(n):\n",
    "\t\tif f_prime(x) == 0:\n",
    "\t\t\treturn x\n",
    "\t\tx = x - function(x)/f_prime(x)\n",
    "\treturn x\n",
    "\n",
    "print newt(1.5, 10)"
   ]
  },
  {
   "cell_type": "code",
   "execution_count": 20,
   "metadata": {
    "collapsed": false
   },
   "outputs": [
    {
     "name": "stdout",
     "output_type": "stream",
     "text": [
      "-0.249999990003\n"
     ]
    }
   ],
   "source": []
  },
  {
   "cell_type": "code",
   "execution_count": null,
   "metadata": {
    "collapsed": true
   },
   "outputs": [],
   "source": []
  }
 ],
 "metadata": {
  "kernelspec": {
   "display_name": "Python 2",
   "language": "python",
   "name": "python2"
  },
  "language_info": {
   "codemirror_mode": {
    "name": "ipython",
    "version": 2
   },
   "file_extension": ".py",
   "mimetype": "text/x-python",
   "name": "python",
   "nbconvert_exporter": "python",
   "pygments_lexer": "ipython2",
   "version": "2.7.6"
  }
 },
 "nbformat": 4,
 "nbformat_minor": 0
}
