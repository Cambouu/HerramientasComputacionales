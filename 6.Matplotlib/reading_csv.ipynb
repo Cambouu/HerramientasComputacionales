{
 "metadata": {
  "name": "reading_csv"
 },
 "nbformat": 3,
 "nbformat_minor": 0,
 "worksheets": [
  {
   "cells": [
    {
     "cell_type": "code",
     "collapsed": false,
     "input": [
      "%pylab"
     ],
     "language": "python",
     "metadata": {},
     "outputs": [
      {
       "output_type": "stream",
       "stream": "stdout",
       "text": [
        "\n",
        "Welcome to pylab, a matplotlib-based Python environment [backend: TkAgg].\n",
        "For more information, type 'help(pylab)'.\n"
       ]
      }
     ],
     "prompt_number": 1
    },
    {
     "cell_type": "code",
     "collapsed": false,
     "input": [
      "data = genfromtxt(\"pobreza.csv\", delimiter=',', dtype=None)"
     ],
     "language": "python",
     "metadata": {},
     "outputs": [],
     "prompt_number": 4
    },
    {
     "cell_type": "code",
     "collapsed": false,
     "input": [
      "x = data[:,1]"
     ],
     "language": "python",
     "metadata": {},
     "outputs": [],
     "prompt_number": 5
    },
    {
     "cell_type": "code",
     "collapsed": false,
     "input": [
      "print x"
     ],
     "language": "python",
     "metadata": {},
     "outputs": [
      {
       "output_type": "stream",
       "stream": "stdout",
       "text": [
        "[' -75.575137)\" 6.235925 -75.575137 \"(0.142'\n",
        " ' -75.428001)\" 5.796806 -75.428001 \"(0.571'\n",
        " ' -76.0666667)\" 6.6333333 -76.0666667 \"(0.357' ...,\n",
        " ' -70.4092)\" 5.49056 -70.4092 \"(0.786'\n",
        " ' -70.8758)\" 5.12611 -70.8758 \"(0.786' ' -69.8)\" 4.45 -69.8 \"(0.786']\n"
       ]
      }
     ],
     "prompt_number": 7
    },
    {
     "cell_type": "code",
     "collapsed": false,
     "input": [],
     "language": "python",
     "metadata": {},
     "outputs": []
    }
   ],
   "metadata": {}
  }
 ]
}