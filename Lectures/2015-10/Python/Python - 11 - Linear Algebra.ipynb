{
 "metadata": {
  "name": "",
  "signature": "sha256:98c07b2f4471bb68d582687dacb8dd93262dc99ca8acaeb97d0e47ad97cef4f2"
 },
 "nbformat": 3,
 "nbformat_minor": 0,
 "worksheets": [
  {
   "cells": [
    {
     "cell_type": "markdown",
     "metadata": {},
     "source": [
      "#\u00c1lgebra Lineal"
     ]
    },
    {
     "cell_type": "code",
     "collapsed": false,
     "input": [
      "%pylab inline\n",
      "from IPython.display import Image\n",
      "from IPython.display import HTML"
     ],
     "language": "python",
     "metadata": {},
     "outputs": [
      {
       "output_type": "stream",
       "stream": "stdout",
       "text": [
        "Populating the interactive namespace from numpy and matplotlib\n"
       ]
      }
     ],
     "prompt_number": 2
    },
    {
     "cell_type": "code",
     "collapsed": false,
     "input": [
      "help(linalg)"
     ],
     "language": "python",
     "metadata": {},
     "outputs": [
      {
       "output_type": "stream",
       "stream": "stdout",
       "text": [
        "Help on package numpy.linalg in numpy:\n",
        "\n",
        "NAME\n",
        "    numpy.linalg\n",
        "\n",
        "FILE\n",
        "    /Users/phoenix/anaconda/lib/python2.7/site-packages/numpy/linalg/__init__.py\n",
        "\n",
        "DESCRIPTION\n",
        "    Core Linear Algebra Tools\n",
        "    -------------------------\n",
        "    Linear algebra basics:\n",
        "    \n",
        "    - norm            Vector or matrix norm\n",
        "    - inv             Inverse of a square matrix\n",
        "    - solve           Solve a linear system of equations\n",
        "    - det             Determinant of a square matrix\n",
        "    - lstsq           Solve linear least-squares problem\n",
        "    - pinv            Pseudo-inverse (Moore-Penrose) calculated using a singular\n",
        "                      value decomposition\n",
        "    - matrix_power    Integer power of a square matrix\n",
        "    \n",
        "    Eigenvalues and decompositions:\n",
        "    \n",
        "    - eig             Eigenvalues and vectors of a square matrix\n",
        "    - eigh            Eigenvalues and eigenvectors of a Hermitian matrix\n",
        "    - eigvals         Eigenvalues of a square matrix\n",
        "    - eigvalsh        Eigenvalues of a Hermitian matrix\n",
        "    - qr              QR decomposition of a matrix\n",
        "    - svd             Singular value decomposition of a matrix\n",
        "    - cholesky        Cholesky decomposition of a matrix\n",
        "    \n",
        "    Tensor operations:\n",
        "    \n",
        "    - tensorsolve     Solve a linear tensor equation\n",
        "    - tensorinv       Calculate an inverse of a tensor\n",
        "    \n",
        "    Exceptions:\n",
        "    \n",
        "    - LinAlgError     Indicates a failed linear algebra operation\n",
        "\n",
        "PACKAGE CONTENTS\n",
        "    _umath_linalg\n",
        "    info\n",
        "    lapack_lite\n",
        "    linalg\n",
        "    setup\n",
        "\n",
        "DATA\n",
        "    absolute_import = _Feature((2, 5, 0, 'alpha', 1), (3, 0, 0, 'alpha', 0...\n",
        "    division = _Feature((2, 2, 0, 'alpha', 2), (3, 0, 0, 'alpha', 0), 8192...\n",
        "    print_function = _Feature((2, 6, 0, 'alpha', 2), (3, 0, 0, 'alpha', 0)...\n",
        "\n",
        "\n"
       ]
      }
     ],
     "prompt_number": 3
    },
    {
     "cell_type": "heading",
     "level": 2,
     "metadata": {},
     "source": [
      "Matrices en NumPy"
     ]
    },
    {
     "cell_type": "code",
     "collapsed": false,
     "input": [
      "A=zeros((3,3))\n",
      "print type(A)\n",
      "mA=mat(A)\n",
      "print mA\n",
      "print type(mA)\n",
      "B=eye(3)\n",
      "mB=mat(B)\n",
      "print mB\n",
      "# El producto entre arrays se hace elemento por elemento\n",
      "# El producto entre matrices obedece las reglas de la multiplicaci\u00f3n matricial\n",
      "mC=mA*mB\n",
      "print mC"
     ],
     "language": "python",
     "metadata": {},
     "outputs": [
      {
       "output_type": "stream",
       "stream": "stdout",
       "text": [
        "<type 'numpy.ndarray'>\n",
        "[[ 0.  0.  0.]\n",
        " [ 0.  0.  0.]\n",
        " [ 0.  0.  0.]]\n",
        "<class 'numpy.matrixlib.defmatrix.matrix'>\n",
        "[[ 1.  0.  0.]\n",
        " [ 0.  1.  0.]\n",
        " [ 0.  0.  1.]]\n",
        "[[ 0.  0.  0.]\n",
        " [ 0.  0.  0.]\n",
        " [ 0.  0.  0.]]\n"
       ]
      }
     ],
     "prompt_number": 5
    },
    {
     "cell_type": "markdown",
     "metadata": {},
     "source": [
      "Definici\u00f3n del producto de dos matrices\n",
      "\n",
      "$(AB)_{i,j}=\\sum A_{i,k}B_{k,j}$"
     ]
    },
    {
     "cell_type": "heading",
     "level": 2,
     "metadata": {},
     "source": [
      "Ejemplo: matrices de Pauli"
     ]
    },
    {
     "cell_type": "code",
     "collapsed": false,
     "input": [
      "HTML('<iframe src=http://en.wikipedia.org/w/index.php?title=Pauli_matrices&printable=yes width=800 height=400></iframe>')"
     ],
     "language": "python",
     "metadata": {},
     "outputs": [
      {
       "html": [
        "<iframe src=http://en.wikipedia.org/w/index.php?title=Pauli_matrices&printable=yes width=800 height=400></iframe>"
       ],
       "metadata": {},
       "output_type": "pyout",
       "prompt_number": 6,
       "text": [
        "<IPython.core.display.HTML at 0x102df9590>"
       ]
      }
     ],
     "prompt_number": 6
    },
    {
     "cell_type": "code",
     "collapsed": false,
     "input": [
      "sigmax=matrix([[0,1],[1,0]])\n",
      "sigmay=matrix([[0,-1j],[1j,0]])\n",
      "sigmaz=matrix([[1,0],[0,-1]])\n",
      "sigmas=[sigmax,sigmay,sigmaz]"
     ],
     "language": "python",
     "metadata": {},
     "outputs": [],
     "prompt_number": 7
    },
    {
     "cell_type": "markdown",
     "metadata": {},
     "source": [
      "\"The matrices are involutory:...\""
     ]
    },
    {
     "cell_type": "code",
     "collapsed": false,
     "input": [
      "for pauli in sigmas:\n",
      "    print \"*\"*20\n",
      "    print pauli*pauli\n",
      "    print \"*\"*20"
     ],
     "language": "python",
     "metadata": {},
     "outputs": [
      {
       "output_type": "stream",
       "stream": "stdout",
       "text": [
        "********************\n",
        "[[1 0]\n",
        " [0 1]]\n",
        "********************\n",
        "********************\n",
        "[[ 1.+0.j  0.+0.j]\n",
        " [ 0.+0.j  1.+0.j]]\n",
        "********************\n",
        "********************\n",
        "[[1 0]\n",
        " [0 1]]\n",
        "********************\n"
       ]
      }
     ],
     "prompt_number": 87
    },
    {
     "cell_type": "markdown",
     "metadata": {},
     "source": [
      "Valores y vectores propios se calculan con la funci\u00f3n **eig**."
     ]
    },
    {
     "cell_type": "code",
     "collapsed": false,
     "input": [
      "for i in range(3):\n",
      "    print \"*\"*22,\"\u03c3\"+[\"x\",\"y\",\"z\"][i],\"*\"*22\n",
      "    print eig(sigmas[i])\n",
      "    print \"*\"*48"
     ],
     "language": "python",
     "metadata": {},
     "outputs": [
      {
       "output_type": "stream",
       "stream": "stdout",
       "text": [
        "********************** \u03c3x **********************\n",
        "(array([ 1., -1.]), matrix([[ 0.70710678, -0.70710678],\n",
        "        [ 0.70710678,  0.70710678]]))\n",
        "************************************************\n",
        "********************** \u03c3y **********************\n",
        "(array([ 1.+0.j, -1.+0.j]), matrix([[-0.00000000-0.70710678j,  0.70710678+0.j        ],\n",
        "        [ 0.70710678+0.j        ,  0.00000000-0.70710678j]]))\n",
        "************************************************\n",
        "********************** \u03c3z **********************\n",
        "(array([ 1., -1.]), matrix([[ 1.,  0.],\n",
        "        [ 0.,  1.]]))\n",
        "************************************************\n"
       ]
      }
     ],
     "prompt_number": 93
    },
    {
     "cell_type": "code",
     "collapsed": false,
     "input": [
      "help(linalg)"
     ],
     "language": "python",
     "metadata": {},
     "outputs": [
      {
       "output_type": "stream",
       "stream": "stdout",
       "text": [
        "Help on package numpy.linalg in numpy:\n",
        "\n",
        "NAME\n",
        "    numpy.linalg\n",
        "\n",
        "FILE\n",
        "    /Users/phoenix/anaconda/lib/python2.7/site-packages/numpy/linalg/__init__.py\n",
        "\n",
        "DESCRIPTION\n",
        "    Core Linear Algebra Tools\n",
        "    -------------------------\n",
        "    Linear algebra basics:\n",
        "    \n",
        "    - norm            Vector or matrix norm\n",
        "    - inv             Inverse of a square matrix\n",
        "    - solve           Solve a linear system of equations\n",
        "    - det             Determinant of a square matrix\n",
        "    - lstsq           Solve linear least-squares problem\n",
        "    - pinv            Pseudo-inverse (Moore-Penrose) calculated using a singular\n",
        "                      value decomposition\n",
        "    - matrix_power    Integer power of a square matrix\n",
        "    \n",
        "    Eigenvalues and decompositions:\n",
        "    \n",
        "    - eig             Eigenvalues and vectors of a square matrix\n",
        "    - eigh            Eigenvalues and eigenvectors of a Hermitian matrix\n",
        "    - eigvals         Eigenvalues of a square matrix\n",
        "    - eigvalsh        Eigenvalues of a Hermitian matrix\n",
        "    - qr              QR decomposition of a matrix\n",
        "    - svd             Singular value decomposition of a matrix\n",
        "    - cholesky        Cholesky decomposition of a matrix\n",
        "    \n",
        "    Tensor operations:\n",
        "    \n",
        "    - tensorsolve     Solve a linear tensor equation\n",
        "    - tensorinv       Calculate an inverse of a tensor\n",
        "    \n",
        "    Exceptions:\n",
        "    \n",
        "    - LinAlgError     Indicates a failed linear algebra operation\n",
        "\n",
        "PACKAGE CONTENTS\n",
        "    _umath_linalg\n",
        "    info\n",
        "    lapack_lite\n",
        "    linalg\n",
        "    setup\n",
        "\n",
        "DATA\n",
        "    absolute_import = _Feature((2, 5, 0, 'alpha', 1), (3, 0, 0, 'alpha', 0...\n",
        "    division = _Feature((2, 2, 0, 'alpha', 2), (3, 0, 0, 'alpha', 0), 8192...\n",
        "    print_function = _Feature((2, 6, 0, 'alpha', 2), (3, 0, 0, 'alpha', 0)...\n",
        "\n",
        "\n"
       ]
      }
     ],
     "prompt_number": 8
    },
    {
     "cell_type": "markdown",
     "metadata": {},
     "source": [
      "Los determinantes se calculan con la funci\u00f3n **det** que admite matrices o arrays cuadrados"
     ]
    },
    {
     "cell_type": "code",
     "collapsed": false,
     "input": [
      "for pauli in sigmas:\n",
      "    print det(pauli)"
     ],
     "language": "python",
     "metadata": {},
     "outputs": [
      {
       "output_type": "stream",
       "stream": "stdout",
       "text": [
        "-1.0\n",
        "(-1+0j)\n",
        "-1.0\n"
       ]
      }
     ],
     "prompt_number": 9
    },
    {
     "cell_type": "markdown",
     "metadata": {},
     "source": [
      "La traza se calcula con la funci\u00f3n **trace**"
     ]
    },
    {
     "cell_type": "code",
     "collapsed": false,
     "input": [
      "for pauli in sigmas:\n",
      "    print trace(pauli)"
     ],
     "language": "python",
     "metadata": {},
     "outputs": [
      {
       "output_type": "stream",
       "stream": "stdout",
       "text": [
        "0\n",
        "0j\n",
        "0\n"
       ]
      }
     ],
     "prompt_number": 83
    },
    {
     "cell_type": "heading",
     "level": 2,
     "metadata": {},
     "source": [
      "Soluci\u00f3n de sistemas de ecuaciones lineales"
     ]
    },
    {
     "cell_type": "markdown",
     "metadata": {},
     "source": [
      "Para resolver sistemas de ecuaciones lineales usar la funci\u00f3n **solve**.\n",
      "\n",
      "$A\\vec{b}=\\vec{c} \\rightarrow \\vec{b}=A^{-1}\\vec{c}$"
     ]
    },
    {
     "cell_type": "code",
     "collapsed": false,
     "input": [
      "Image(filename='/Users/juan/Dropbox/linearsys.png')\n",
      "# Del libro de Insel sobre \u00e1lgebra lineal"
     ],
     "language": "python",
     "metadata": {},
     "outputs": [
      {
       "metadata": {},
       "output_type": "pyout",
       "png": "[encoded data removed]",
       "prompt_number": 94,
       "text": [
        "<IPython.core.display.Image at 0x1063b2850>"
       ]
      }
     ],
     "prompt_number": 94
    },
    {
     "cell_type": "code",
     "collapsed": false,
     "input": [
      "mat=matrix([[3,-7,4],[1,-2,1],[2,-1,-2]])\n",
      "sol=solve(mat,[10,3,6])\n",
      "print sol\n",
      "print \"Verificar la soluci\u00f3n\"\n",
      "mat*transpose(matrix(sol))"
     ],
     "language": "python",
     "metadata": {},
     "outputs": [
      {
       "output_type": "stream",
       "stream": "stdout",
       "text": [
        "[-2. -4. -3.]\n",
        "Verificar la soluci\u00f3n\n"
       ]
      },
      {
       "metadata": {},
       "output_type": "pyout",
       "prompt_number": 97,
       "text": [
        "matrix([[ 10.],\n",
        "        [  3.],\n",
        "        [  6.]])"
       ]
      }
     ],
     "prompt_number": 97
    },
    {
     "cell_type": "markdown",
     "metadata": {},
     "source": [
      "Tambi\u00e9n podr\u00eda usarse la inversi\u00f3n de matrices que se puede llevar a cabo con la funci\u00f3n **inv**."
     ]
    },
    {
     "cell_type": "code",
     "collapsed": false,
     "input": [
      "inv(mat)*transpose(matrix([[10,3,6]]))"
     ],
     "language": "python",
     "metadata": {},
     "outputs": [
      {
       "metadata": {},
       "output_type": "pyout",
       "prompt_number": 100,
       "text": [
        "matrix([[-2.],\n",
        "        [-4.],\n",
        "        [-3.]])"
       ]
      }
     ],
     "prompt_number": 100
    },
    {
     "cell_type": "markdown",
     "metadata": {},
     "source": [
      "##Otros"
     ]
    },
    {
     "cell_type": "markdown",
     "metadata": {},
     "source": [
      "La funci\u00f3n **eye** sirve para producir un \"array identidad\"."
     ]
    },
    {
     "cell_type": "code",
     "collapsed": false,
     "input": [
      "identidad=matrix(eye(10))\n",
      "print identidad"
     ],
     "language": "python",
     "metadata": {},
     "outputs": [
      {
       "output_type": "stream",
       "stream": "stdout",
       "text": [
        "[[ 1.  0.  0.  0.  0.  0.  0.  0.  0.  0.]\n",
        " [ 0.  1.  0.  0.  0.  0.  0.  0.  0.  0.]\n",
        " [ 0.  0.  1.  0.  0.  0.  0.  0.  0.  0.]\n",
        " [ 0.  0.  0.  1.  0.  0.  0.  0.  0.  0.]\n",
        " [ 0.  0.  0.  0.  1.  0.  0.  0.  0.  0.]\n",
        " [ 0.  0.  0.  0.  0.  1.  0.  0.  0.  0.]\n",
        " [ 0.  0.  0.  0.  0.  0.  1.  0.  0.  0.]\n",
        " [ 0.  0.  0.  0.  0.  0.  0.  1.  0.  0.]\n",
        " [ 0.  0.  0.  0.  0.  0.  0.  0.  1.  0.]\n",
        " [ 0.  0.  0.  0.  0.  0.  0.  0.  0.  1.]]\n"
       ]
      }
     ],
     "prompt_number": 9
    },
    {
     "cell_type": "markdown",
     "metadata": {},
     "source": [
      "La funci\u00f3n **diag** se puede utilizar para tomar la diagonal de un array o bandas."
     ]
    },
    {
     "cell_type": "code",
     "collapsed": false,
     "input": [
      "ma=diag(range(10))\n",
      "print ma"
     ],
     "language": "python",
     "metadata": {},
     "outputs": [
      {
       "output_type": "stream",
       "stream": "stdout",
       "text": [
        "[[0 0 0 0 0 0 0 0 0 0]\n",
        " [0 1 0 0 0 0 0 0 0 0]\n",
        " [0 0 2 0 0 0 0 0 0 0]\n",
        " [0 0 0 3 0 0 0 0 0 0]\n",
        " [0 0 0 0 4 0 0 0 0 0]\n",
        " [0 0 0 0 0 5 0 0 0 0]\n",
        " [0 0 0 0 0 0 6 0 0 0]\n",
        " [0 0 0 0 0 0 0 7 0 0]\n",
        " [0 0 0 0 0 0 0 0 8 0]\n",
        " [0 0 0 0 0 0 0 0 0 9]]\n"
       ]
      }
     ],
     "prompt_number": 10
    },
    {
     "cell_type": "code",
     "collapsed": false,
     "input": [
      "# Recuperar la diagonal\n",
      "diag(ma)"
     ],
     "language": "python",
     "metadata": {},
     "outputs": [
      {
       "metadata": {},
       "output_type": "pyout",
       "prompt_number": 17,
       "text": [
        "array([0, 1, 2, 3, 4, 5, 6, 7, 8, 9])"
       ]
      }
     ],
     "prompt_number": 17
    },
    {
     "cell_type": "code",
     "collapsed": false,
     "input": [
      "# Usar una diagonal distinta a la principal\n",
      "diag(range(10),k=1)"
     ],
     "language": "python",
     "metadata": {},
     "outputs": [
      {
       "metadata": {},
       "output_type": "pyout",
       "prompt_number": 20,
       "text": [
        "array([[0, 0, 0, 0, 0, 0, 0, 0, 0, 0, 0],\n",
        "       [0, 0, 1, 0, 0, 0, 0, 0, 0, 0, 0],\n",
        "       [0, 0, 0, 2, 0, 0, 0, 0, 0, 0, 0],\n",
        "       [0, 0, 0, 0, 3, 0, 0, 0, 0, 0, 0],\n",
        "       [0, 0, 0, 0, 0, 4, 0, 0, 0, 0, 0],\n",
        "       [0, 0, 0, 0, 0, 0, 5, 0, 0, 0, 0],\n",
        "       [0, 0, 0, 0, 0, 0, 0, 6, 0, 0, 0],\n",
        "       [0, 0, 0, 0, 0, 0, 0, 0, 7, 0, 0],\n",
        "       [0, 0, 0, 0, 0, 0, 0, 0, 0, 8, 0],\n",
        "       [0, 0, 0, 0, 0, 0, 0, 0, 0, 0, 9],\n",
        "       [0, 0, 0, 0, 0, 0, 0, 0, 0, 0, 0]])"
       ]
      }
     ],
     "prompt_number": 20
    },
    {
     "cell_type": "code",
     "collapsed": false,
     "input": [
      "ma=zeros((10,10))\n",
      "# La funci\u00f3n transpose puede utilizarse para transponer arrays o matrices.\n",
      "for i in range(10):\n",
      "    ma+=diag(range(10-i),k=i)+transpose(diag(range(10-i),k=i))\n",
      "figure()\n",
      "imshow(ma,interpolation='none')\n",
      "show()"
     ],
     "language": "python",
     "metadata": {},
     "outputs": [
      {
       "metadata": {},
       "output_type": "display_data",
       "png": "[encoded data removed]",
       "text": [
        "<matplotlib.figure.Figure at 0x1064c9c10>"
       ]
      }
     ],
     "prompt_number": 26
    }
   ],
   "metadata": {}
  }
 ]
}