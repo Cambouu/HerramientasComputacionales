{
 "metadata": {
  "name": "",
  "signature": "sha256:b7431bd8adbbaf6876a15e1f55f1c16b7198bafe2baed61cee68e839a826744b"
 },
 "nbformat": 3,
 "nbformat_minor": 0,
 "worksheets": [
  {
   "cells": [
    {
     "cell_type": "heading",
     "level": 1,
     "metadata": {},
     "source": [
      "Python - Archivos y Comandos del OS"
     ]
    },
    {
     "cell_type": "code",
     "collapsed": false,
     "input": [
      "%pylab inline\n",
      "from IPython.display import HTML"
     ],
     "language": "python",
     "metadata": {},
     "outputs": [
      {
       "output_type": "stream",
       "stream": "stdout",
       "text": [
        "Populating the interactive namespace from numpy and matplotlib\n"
       ]
      }
     ],
     "prompt_number": 1
    },
    {
     "cell_type": "heading",
     "level": 2,
     "metadata": {},
     "source": [
      "(Uso de comandos del OS desde Python)"
     ]
    },
    {
     "cell_type": "code",
     "collapsed": false,
     "input": [
      "!ls"
     ],
     "language": "python",
     "metadata": {},
     "outputs": [
      {
       "output_type": "stream",
       "stream": "stdout",
       "text": [
        "Bisection_newton-Rhapson.ipynb\r\n",
        "Espiral.ipynb\r\n",
        "\u001b[36mEstudiantes\u001b[m\u001b[m\r\n",
        "\u001b[36mHW10\u001b[m\u001b[m\r\n",
        "HW4-Sol.ipynb\r\n",
        "HW5-Sol.ipynb\r\n",
        "HW5-Sol.ipynb copy\r\n",
        "HW6-Sol.ipynb\r\n",
        "HW7-Sol.ipynb\r\n",
        "HW8-Sol.ipynb\r\n",
        "HW8-Sol.ipynb copy\r\n",
        "HW9-Sol-Juan.ipynb\r\n",
        "HW9-Sol.ipynb\r\n",
        "Histogramas.ipynb\r\n",
        "Matplotlib_basic.ipynb\r\n",
        "ModelosComputacionalesSencillos.ipynb\r\n",
        "Montecarlo.ipynb\r\n",
        "More Python.ipynb\r\n",
        "PoissonDist.ipynb\r\n",
        "Python - Archivos y OS.ipynb\r\n",
        "Python - Introduction.ipynb\r\n",
        "Python - Introduction2.ipynb\r\n",
        "Python - Matplotlib.ipynb\r\n",
        "Python - Modelos.ipynb\r\n",
        "Python - NumPy.ipynb\r\n",
        "Python - Poisson.ipynb\r\n",
        "Python - Statistics.ipynb\r\n",
        "Python Built-in Functions.ipynb\r\n",
        "Python-Fit.ipynb\r\n",
        "Python-MetodosNum.ipynb\r\n",
        "Python-NumericalMethods.ipynb\r\n",
        "Quiz3.ipynb\r\n",
        "Quiz4.ipynb\r\n",
        "Rayuela.ipynb\r\n",
        "Uncrypto.ipynb\r\n",
        "Untitled0.ipynb\r\n",
        "Untitled1.ipynb\r\n",
        "Untitled2.ipynb\r\n",
        "Untitled3.ipynb\r\n",
        "Untitled4.ipynb\r\n",
        "Untitled5.ipynb\r\n",
        "Untitled6.ipynb\r\n",
        "acumulado-etapa2.dat\r\n",
        "archivo0\r\n",
        "archivo1\r\n",
        "archivo2\r\n",
        "cards.txt\r\n",
        "cleangiro.csv\r\n",
        "colores.txt\r\n",
        "figura.png\r\n",
        "fractal_lr.png\r\n",
        "fractal_newton.ipynb\r\n",
        "giro_2014.csv\r\n",
        "\u001b[36mhw8\u001b[m\u001b[m\r\n",
        "i\r\n",
        "pi-billion.txt\r\n",
        "quake.pdf\r\n",
        "thefig.jpg\r\n",
        "thefig.pdf\r\n",
        "thefig.png\r\n",
        "thefig.svg\r\n",
        "wave.csv\r\n"
       ]
      }
     ],
     "prompt_number": 2
    },
    {
     "cell_type": "code",
     "collapsed": false,
     "input": [
      "!head giro_2014.csv"
     ],
     "language": "python",
     "metadata": {},
     "outputs": [
      {
       "output_type": "stream",
       "stream": "stdout",
       "text": [
        "\"nome\",\"naz\",\"team\",\"tempo.1\",\"tempo.2\",\"tempo.3\",\"tempo.4\",\"tempo.5\",\"tempo.6\",\"tempo.7\",\"tempo.8\",\"tempo.9\",\"tempo.10\",\"tempo.11\",\"tempo.12\",\"tempo.13\",\"tempo.14\",\"tempo.15\",\"tempo.16\",\"tempo.17\",\"tempo.18\",\"tempo.19\",\"tempo.20\",\"tempo.21\"\r\n",
        "\"AGNOLI Valerio\",\"ITA\",\"AST\",1520,20315,36438,44964,63942,87940,107110,125689,142127,156600,178371,182165,195294,211991,233134,252462,270089,288953,293449,311211,327207\r\n",
        "\"ALAFACI Eugenio\",\"ITA\",\"TFR\",1728,20523,36657,45183,64659,89388,108530,127856,145156,159831,181812,185686,198868,217273,239129,258457,276084,295393,300217,318656,334612\r\n",
        "\"AMADOR Andrey\",\"CRC\",\"MOV\",1537,20332,36466,44992,64309,89462,108427,127466,144673,159348,181119,185036,198087,215732,237425,256275,273902,292766,297356,314985,330832\r\n",
        "\"ANACONA GOMEZ Winner\",\"COL\",\"LAM\",1562,20357,36491,45017,63989,88076,107041,125929,143229,157904,179885,183864,196993,214265,235408,252961,270588,288794,293066,310656,326522\r\n",
        "\"ANTON Igor\",\"ESP\",\"MOV\",1734,20529,36663,45189,64506,88593,107767,125466,142739,157414,178311,182324,195375,212063,232363,251213,268034,285826,290333,307694,323541\r\n",
        "\"APPOLLONIO Davide\",\"ITA\",\"ALM\",1540,20332,36455,44981,64635,89038,108003,127371,144671,159144,NA,NA,NA,NA,NA,NA,NA,NA,NA,NA,NA\r\n",
        "\"ARASHIRO Yukiya\",\"JPN\",\"EUC\",1590,20385,36519,45045,64437,88778,107743,126631,143931,158606,180587,184385,197466,215871,237604,257206,274833,293697,298360,316526,332373\r\n",
        "\"ARMEE Sander\",\"BEL\",\"LTB\",1740,20533,36667,45193,64324,88248,107213,125492,141788,156463,177360,181302,194353,211338,231871,251199,268826,286544,290862,308528,324444\r\n",
        "\"ARREDONDO MORENO Julian David\",\"COL\",\"TFR\",1542,20337,36471,44997,63753,88684,107649,125106,142406,157157,178054,182100,195537,212722,233364,252966,270593,287974,292644,310437,326384\r\n"
       ]
      }
     ],
     "prompt_number": 3
    },
    {
     "cell_type": "code",
     "collapsed": false,
     "input": [
      "!open quake.pdf"
     ],
     "language": "python",
     "metadata": {},
     "outputs": [],
     "prompt_number": 4
    },
    {
     "cell_type": "code",
     "collapsed": false,
     "input": [
      "# ! tiene limitantes\n",
      "i=\"file\"\n",
      "!touch i\n",
      "!ls"
     ],
     "language": "python",
     "metadata": {},
     "outputs": [
      {
       "output_type": "stream",
       "stream": "stdout",
       "text": [
        "Bisection_newton-Rhapson.ipynb\r\n",
        "Espiral.ipynb\r\n",
        "\u001b[36mEstudiantes\u001b[m\u001b[m\r\n",
        "\u001b[36mHW10\u001b[m\u001b[m\r\n",
        "HW4-Sol.ipynb\r\n",
        "HW5-Sol.ipynb\r\n",
        "HW5-Sol.ipynb copy\r\n",
        "HW6-Sol.ipynb\r\n",
        "HW7-Sol.ipynb\r\n",
        "HW8-Sol.ipynb\r\n",
        "HW8-Sol.ipynb copy\r\n",
        "HW9-Sol-Juan.ipynb\r\n",
        "HW9-Sol.ipynb\r\n",
        "Histogramas.ipynb\r\n",
        "Matplotlib_basic.ipynb\r\n",
        "ModelosComputacionalesSencillos.ipynb\r\n",
        "Montecarlo.ipynb\r\n",
        "More Python.ipynb\r\n",
        "PoissonDist.ipynb\r\n",
        "Python - Archivos y OS.ipynb\r\n",
        "Python - Introduction.ipynb\r\n",
        "Python - Introduction2.ipynb\r\n",
        "Python - Matplotlib.ipynb\r\n",
        "Python - Modelos.ipynb\r\n",
        "Python - NumPy.ipynb\r\n",
        "Python - Poisson.ipynb\r\n",
        "Python - Statistics.ipynb\r\n",
        "Python Built-in Functions.ipynb\r\n",
        "Python-Fit.ipynb\r\n",
        "Python-MetodosNum.ipynb\r\n",
        "Python-NumericalMethods.ipynb\r\n",
        "Quiz3.ipynb\r\n",
        "Quiz4.ipynb\r\n",
        "Rayuela.ipynb\r\n",
        "Uncrypto.ipynb\r\n",
        "Untitled0.ipynb\r\n",
        "Untitled1.ipynb\r\n",
        "Untitled2.ipynb\r\n",
        "Untitled3.ipynb\r\n",
        "Untitled4.ipynb\r\n",
        "Untitled5.ipynb\r\n",
        "Untitled6.ipynb\r\n",
        "acumulado-etapa2.dat\r\n",
        "archivo0\r\n",
        "archivo1\r\n",
        "archivo2\r\n",
        "cards.txt\r\n",
        "cleangiro.csv\r\n",
        "colores.txt\r\n",
        "figura.png\r\n",
        "fractal_lr.png\r\n",
        "fractal_newton.ipynb\r\n",
        "giro_2014.csv\r\n",
        "\u001b[36mhw8\u001b[m\u001b[m\r\n",
        "i\r\n",
        "pi-billion.txt\r\n",
        "quake.pdf\r\n",
        "thefig.jpg\r\n",
        "thefig.pdf\r\n",
        "thefig.png\r\n",
        "thefig.svg\r\n",
        "wave.csv\r\n"
       ]
      }
     ],
     "prompt_number": 6
    },
    {
     "cell_type": "code",
     "collapsed": false,
     "input": [
      "# Limitantes que pueden ser remediadas usando system del modulo os\n",
      "# o con el m\u00f3dulo subprocess\n",
      "import os\n",
      "HTML('<iframe src=https://docs.python.org/2/library/os.html width=800 height=200></iframe>')"
     ],
     "language": "python",
     "metadata": {},
     "outputs": [
      {
       "html": [
        "<iframe src=https://docs.python.org/2/library/os.html width=800 height=200></iframe>"
       ],
       "metadata": {},
       "output_type": "pyout",
       "prompt_number": 7,
       "text": [
        "<IPython.core.display.HTML at 0x1044687d0>"
       ]
      }
     ],
     "prompt_number": 7
    },
    {
     "cell_type": "code",
     "collapsed": false,
     "input": [
      "i=\"file\"\n",
      "os.system(\"touch \"+i)\n",
      "!ls"
     ],
     "language": "python",
     "metadata": {},
     "outputs": [
      {
       "output_type": "stream",
       "stream": "stdout",
       "text": [
        "Bisection_newton-Rhapson.ipynb\r\n",
        "Espiral.ipynb\r\n",
        "\u001b[36mEstudiantes\u001b[m\u001b[m\r\n",
        "\u001b[36mHW10\u001b[m\u001b[m\r\n",
        "HW4-Sol.ipynb\r\n",
        "HW5-Sol.ipynb\r\n",
        "HW5-Sol.ipynb copy\r\n",
        "HW6-Sol.ipynb\r\n",
        "HW7-Sol.ipynb\r\n",
        "HW8-Sol.ipynb\r\n",
        "HW8-Sol.ipynb copy\r\n",
        "HW9-Sol-Juan.ipynb\r\n",
        "HW9-Sol.ipynb\r\n",
        "Histogramas.ipynb\r\n",
        "Matplotlib_basic.ipynb\r\n",
        "ModelosComputacionalesSencillos.ipynb\r\n",
        "Montecarlo.ipynb\r\n",
        "More Python.ipynb\r\n",
        "PoissonDist.ipynb\r\n",
        "Python - Archivos y OS.ipynb\r\n",
        "Python - Introduction.ipynb\r\n",
        "Python - Introduction2.ipynb\r\n",
        "Python - Matplotlib.ipynb\r\n",
        "Python - Modelos.ipynb\r\n",
        "Python - NumPy.ipynb\r\n",
        "Python - Poisson.ipynb\r\n",
        "Python - Statistics.ipynb\r\n",
        "Python Built-in Functions.ipynb\r\n",
        "Python-Fit.ipynb\r\n",
        "Python-MetodosNum.ipynb\r\n",
        "Python-NumericalMethods.ipynb\r\n",
        "Quiz3.ipynb\r\n",
        "Quiz4.ipynb\r\n",
        "Rayuela.ipynb\r\n",
        "Uncrypto.ipynb\r\n",
        "Untitled0.ipynb\r\n",
        "Untitled1.ipynb\r\n",
        "Untitled2.ipynb\r\n",
        "Untitled3.ipynb\r\n",
        "Untitled4.ipynb\r\n",
        "Untitled5.ipynb\r\n",
        "Untitled6.ipynb\r\n",
        "acumulado-etapa2.dat\r\n",
        "archivo0\r\n",
        "archivo1\r\n",
        "archivo2\r\n",
        "cards.txt\r\n",
        "cleangiro.csv\r\n",
        "colores.txt\r\n",
        "figura.png\r\n",
        "file\r\n",
        "fractal_lr.png\r\n",
        "fractal_newton.ipynb\r\n",
        "giro_2014.csv\r\n",
        "\u001b[36mhw8\u001b[m\u001b[m\r\n",
        "i\r\n",
        "pi-billion.txt\r\n",
        "quake.pdf\r\n",
        "thefig.jpg\r\n",
        "thefig.pdf\r\n",
        "thefig.png\r\n",
        "thefig.svg\r\n",
        "wave.csv\r\n"
       ]
      }
     ],
     "prompt_number": 8
    },
    {
     "cell_type": "code",
     "collapsed": false,
     "input": [
      "!ls\n",
      "print \"################################################################################################\"\n",
      "i=\"ABACERIA\"\n",
      "for j in range(10):\n",
      "    os.system(\"touch \"+i+str(j))\n",
      "!ls"
     ],
     "language": "python",
     "metadata": {},
     "outputs": [
      {
       "output_type": "stream",
       "stream": "stdout",
       "text": [
        "Bisection_newton-Rhapson.ipynb\r\n",
        "Espiral.ipynb\r\n",
        "\u001b[36mEstudiantes\u001b[m\u001b[m\r\n",
        "\u001b[36mHW10\u001b[m\u001b[m\r\n",
        "HW4-Sol.ipynb\r\n",
        "HW5-Sol.ipynb\r\n",
        "HW5-Sol.ipynb copy\r\n",
        "HW6-Sol.ipynb\r\n",
        "HW7-Sol.ipynb\r\n",
        "HW8-Sol.ipynb\r\n",
        "HW8-Sol.ipynb copy\r\n",
        "HW9-Sol-Juan.ipynb\r\n",
        "HW9-Sol.ipynb\r\n",
        "Histogramas.ipynb\r\n",
        "Matplotlib_basic.ipynb\r\n",
        "ModelosComputacionalesSencillos.ipynb\r\n",
        "Montecarlo.ipynb\r\n",
        "More Python.ipynb\r\n",
        "PoissonDist.ipynb\r\n",
        "Python - Archivos y OS.ipynb\r\n",
        "Python - Introduction.ipynb\r\n",
        "Python - Introduction2.ipynb\r\n",
        "Python - Matplotlib.ipynb\r\n",
        "Python - Modelos.ipynb\r\n",
        "Python - NumPy.ipynb\r\n",
        "Python - Poisson.ipynb\r\n",
        "Python - Statistics.ipynb\r\n",
        "Python Built-in Functions.ipynb\r\n",
        "Python-Fit.ipynb\r\n",
        "Python-MetodosNum.ipynb\r\n",
        "Python-NumericalMethods.ipynb\r\n",
        "Quiz3.ipynb\r\n",
        "Quiz4.ipynb\r\n",
        "Rayuela.ipynb\r\n",
        "Uncrypto.ipynb\r\n",
        "Untitled0.ipynb\r\n",
        "Untitled1.ipynb\r\n",
        "Untitled2.ipynb\r\n",
        "Untitled3.ipynb\r\n",
        "Untitled4.ipynb\r\n",
        "Untitled5.ipynb\r\n",
        "Untitled6.ipynb\r\n",
        "acumulado-etapa2.dat\r\n",
        "archivo0\r\n",
        "archivo1\r\n",
        "archivo2\r\n",
        "cards.txt\r\n",
        "cleangiro.csv\r\n",
        "colores.txt\r\n",
        "figura.png\r\n",
        "file\r\n",
        "fractal_lr.png\r\n",
        "fractal_newton.ipynb\r\n",
        "giro_2014.csv\r\n",
        "\u001b[36mhw8\u001b[m\u001b[m\r\n",
        "i\r\n",
        "pi-billion.txt\r\n",
        "quake.pdf\r\n",
        "thefig.jpg\r\n",
        "thefig.pdf\r\n",
        "thefig.png\r\n",
        "thefig.svg\r\n",
        "wave.csv\r\n"
       ]
      },
      {
       "output_type": "stream",
       "stream": "stdout",
       "text": [
        "################################################################################################\n",
        "ABACERIA0\r\n",
        "ABACERIA1\r\n",
        "ABACERIA2\r\n",
        "ABACERIA3\r\n",
        "ABACERIA4\r\n",
        "ABACERIA5\r\n",
        "ABACERIA6\r\n",
        "ABACERIA7\r\n",
        "ABACERIA8\r\n",
        "ABACERIA9\r\n",
        "Bisection_newton-Rhapson.ipynb\r\n",
        "Espiral.ipynb\r\n",
        "\u001b[36mEstudiantes\u001b[m\u001b[m\r\n",
        "\u001b[36mHW10\u001b[m\u001b[m\r\n",
        "HW4-Sol.ipynb\r\n",
        "HW5-Sol.ipynb\r\n",
        "HW5-Sol.ipynb copy\r\n",
        "HW6-Sol.ipynb\r\n",
        "HW7-Sol.ipynb\r\n",
        "HW8-Sol.ipynb\r\n",
        "HW8-Sol.ipynb copy\r\n",
        "HW9-Sol-Juan.ipynb\r\n",
        "HW9-Sol.ipynb\r\n",
        "Histogramas.ipynb\r\n",
        "Matplotlib_basic.ipynb\r\n",
        "ModelosComputacionalesSencillos.ipynb\r\n",
        "Montecarlo.ipynb\r\n",
        "More Python.ipynb\r\n",
        "PoissonDist.ipynb\r\n",
        "Python - Archivos y OS.ipynb\r\n",
        "Python - Introduction.ipynb\r\n",
        "Python - Introduction2.ipynb\r\n",
        "Python - Matplotlib.ipynb\r\n",
        "Python - Modelos.ipynb\r\n",
        "Python - NumPy.ipynb\r\n",
        "Python - Poisson.ipynb\r\n",
        "Python - Statistics.ipynb\r\n",
        "Python Built-in Functions.ipynb\r\n",
        "Python-Fit.ipynb\r\n",
        "Python-MetodosNum.ipynb\r\n",
        "Python-NumericalMethods.ipynb\r\n",
        "Quiz3.ipynb\r\n",
        "Quiz4.ipynb\r\n",
        "Rayuela.ipynb\r\n",
        "Uncrypto.ipynb\r\n",
        "Untitled0.ipynb\r\n",
        "Untitled1.ipynb\r\n",
        "Untitled2.ipynb\r\n",
        "Untitled3.ipynb\r\n",
        "Untitled4.ipynb\r\n",
        "Untitled5.ipynb\r\n",
        "Untitled6.ipynb\r\n",
        "acumulado-etapa2.dat\r\n",
        "archivo0\r\n",
        "archivo1\r\n",
        "archivo2\r\n",
        "cards.txt\r\n",
        "cleangiro.csv\r\n",
        "colores.txt\r\n",
        "figura.png\r\n",
        "file\r\n",
        "fractal_lr.png\r\n",
        "fractal_newton.ipynb\r\n",
        "giro_2014.csv\r\n",
        "\u001b[36mhw8\u001b[m\u001b[m\r\n",
        "i\r\n",
        "pi-billion.txt\r\n",
        "quake.pdf\r\n",
        "thefig.jpg\r\n",
        "thefig.pdf\r\n",
        "thefig.png\r\n",
        "thefig.svg\r\n",
        "wave.csv\r\n"
       ]
      }
     ],
     "prompt_number": 10
    },
    {
     "cell_type": "code",
     "collapsed": false,
     "input": [
      "# Ejemplo de escritura de varios archivos\n",
      "#print \"################################################################################################\"\n",
      "for i in range(3):\n",
      "    efe=open(\"archivo\"+str(i),\"w\")\n",
      "    efe.write(str(i))\n",
      "    efe.close\n",
      "!cat archivo1"
     ],
     "language": "python",
     "metadata": {},
     "outputs": [
      {
       "output_type": "stream",
       "stream": "stdout",
       "text": [
        "1"
       ]
      }
     ],
     "prompt_number": 17
    },
    {
     "cell_type": "heading",
     "level": 2,
     "metadata": {},
     "source": [
      "Archivos"
     ]
    },
    {
     "cell_type": "markdown",
     "metadata": {},
     "source": [
      "\u2735 Abrir -> Escribir/Leer -> Cerrar"
     ]
    },
    {
     "cell_type": "markdown",
     "metadata": {},
     "source": [
      "(from https://docs.python.org/2/tutorial/inputoutput.html)\n",
      "\n",
      "10.1 File I/O\n",
      "\n",
      "Getting data into and out of files in Python feels a lot like using the low-level methods of C, but it has all the ease of Python layered on top.\n",
      "\n",
      "For example, to open a file for writing use the builtin (and very C-like) open() function. But then write the contents of a list with a single call. The open() function returns an open file object and closing the file is done by calling the close() method of that object."
     ]
    },
    {
     "cell_type": "code",
     "collapsed": false,
     "input": [
      "colores = ['rojo\\n','amarillo\\n','azul\\n']\n",
      "efe = open('colores.txt','w')\n",
      "efe.writelines(colores)\n",
      "efe.close()"
     ],
     "language": "python",
     "metadata": {},
     "outputs": [],
     "prompt_number": 1
    },
    {
     "cell_type": "markdown",
     "metadata": {},
     "source": [
      "By default, the open() function returns a file open for reading. Individual lines can be read with the readline() method, which will return an empty string. Since the zero-length string has is not truthy, it makes a simple marker."
     ]
    },
    {
     "cell_type": "code",
     "collapsed": false,
     "input": [
      "efe=open('colores.txt','r')\n",
      "print efe.readline(),\n",
      "print efe.readline(),\n",
      "print efe.readline(),\n",
      "# Cuando no quedan l\u00edneas por leer se obtiene el string vac\u00edo\n",
      "print efe.readline(),\n",
      "efe.close()"
     ],
     "language": "python",
     "metadata": {},
     "outputs": [
      {
       "output_type": "stream",
       "stream": "stdout",
       "text": [
        "rojo\n",
        "amarillo\n",
        "azul\n",
        "\n"
       ]
      }
     ],
     "prompt_number": 4
    },
    {
     "cell_type": "markdown",
     "metadata": {},
     "source": [
      "Alternatively, all of the lines of the file can be read into a list with one method call and then iterated over from there."
     ]
    },
    {
     "cell_type": "code",
     "collapsed": false,
     "input": [
      "efe=open('colores.txt')\n",
      "print efe.readlines()\n",
      "efe.close()"
     ],
     "language": "python",
     "metadata": {},
     "outputs": [
      {
       "output_type": "stream",
       "stream": "stdout",
       "text": [
        "['rojo\\n', 'amarillo\\n', 'azul\\n']\n"
       ]
      }
     ],
     "prompt_number": 6
    },
    {
     "cell_type": "markdown",
     "metadata": {},
     "source": [
      "However, for large files, reading the contents into memory can be impractical. So it is best to use the file object itself as an iterator, which will consume content from the file as needed with no intermediary memory requirement."
     ]
    },
    {
     "cell_type": "code",
     "collapsed": false,
     "input": [
      "efe=open('colores.txt','r')\n",
      "for x in efe:\n",
      "    print x,\n",
      "efe.close()"
     ],
     "language": "python",
     "metadata": {},
     "outputs": [
      {
       "output_type": "stream",
       "stream": "stdout",
       "text": [
        "<type 'file'>\n",
        "rojo\n",
        "amarillo\n",
        "azul\n"
       ]
      }
     ],
     "prompt_number": 8
    },
    {
     "cell_type": "code",
     "collapsed": false,
     "input": [],
     "language": "python",
     "metadata": {},
     "outputs": []
    },
    {
     "cell_type": "markdown",
     "metadata": {},
     "source": [
      "Characters can be read with the read() method."
     ]
    },
    {
     "cell_type": "code",
     "collapsed": false,
     "input": [
      "efe=open('colores.txt','r')\n",
      "while True:\n",
      "    ch=efe.read(1)\n",
      "    if ch!=\"\\n\":\n",
      "        print ch\n",
      "    if ch == '':\n",
      "        break\n",
      "efe.close()"
     ],
     "language": "python",
     "metadata": {},
     "outputs": [
      {
       "output_type": "stream",
       "stream": "stdout",
       "text": [
        "r\n",
        "o\n",
        "j\n",
        "o\n",
        "a\n",
        "m\n",
        "a\n",
        "r\n",
        "i\n",
        "l\n",
        "l\n",
        "o\n",
        "a\n",
        "z\n",
        "u\n",
        "l\n",
        "\n"
       ]
      }
     ],
     "prompt_number": 9
    },
    {
     "cell_type": "markdown",
     "metadata": {},
     "source": [
      "One can read more than one character at a time."
     ]
    },
    {
     "cell_type": "code",
     "collapsed": false,
     "input": [
      "efe=open('colores.txt','r')\n",
      "while True:\n",
      "    ch=efe.read(2)\n",
      "    if ch!=\"\\n\":\n",
      "        print ch\n",
      "    if ch == '':\n",
      "        break\n",
      "efe.close()"
     ],
     "language": "python",
     "metadata": {},
     "outputs": [
      {
       "output_type": "stream",
       "stream": "stdout",
       "text": [
        "ro\n",
        "jo\n",
        "\n",
        "a\n",
        "ma\n",
        "ri\n",
        "ll\n",
        "o\n",
        "\n",
        "az\n",
        "ul\n",
        "\n"
       ]
      }
     ],
     "prompt_number": 7
    },
    {
     "cell_type": "markdown",
     "metadata": {},
     "source": [
      "If read is used with no arguments, the entire file is read."
     ]
    },
    {
     "cell_type": "code",
     "collapsed": false,
     "input": [
      "efe=open('colores.txt','r')\n",
      "print efe.read()\n",
      "efe.close()"
     ],
     "language": "python",
     "metadata": {},
     "outputs": [
      {
       "output_type": "stream",
       "stream": "stdout",
       "text": [
        "rojo\n",
        "amarillo\n",
        "azul\n",
        "\n"
       ]
      }
     ],
     "prompt_number": 8
    },
    {
     "cell_type": "markdown",
     "metadata": {},
     "source": [
      "(from https://docs.python.org/2/tutorial/inputoutput.html)\n",
      "\n",
      "***open()***  returns a file object, and is most commonly used with two arguments: open(filename, mode).\n",
      "\n",
      "The first argument is a string containing the filename. The second argument is another string containing a few characters describing the way in which the file will be used. mode can be 'r' when the file will only be read, 'w' for only writing (an existing file with the same name will be erased), and 'a' opens the file for appending; any data written to the file is automatically added to the end. 'r+' opens the file for both reading and writing. The mode argument is optional; 'r' will be assumed if it\u2019s omitted."
     ]
    },
    {
     "cell_type": "markdown",
     "metadata": {},
     "source": [
      "It is good practice to use the ***with*** keyword when dealing with file objects. This has the advantage that the file is properly closed after its suite finishes, even if an exception is raised on the way. It is also much shorter than writing equivalent try-finally blocks:"
     ]
    },
    {
     "cell_type": "code",
     "collapsed": false,
     "input": [
      "with open('colores.txt') as f:\n",
      "    thecolors=f.read()\n",
      "print thecolors"
     ],
     "language": "python",
     "metadata": {},
     "outputs": [
      {
       "output_type": "stream",
       "stream": "stdout",
       "text": [
        "rojo\n",
        "amarillo\n",
        "azul\n",
        "\n"
       ]
      }
     ],
     "prompt_number": 9
    },
    {
     "cell_type": "code",
     "collapsed": false,
     "input": [
      "efe=open('pi-billion.txt','r')\n",
      "for i in range(10):\n",
      "    print efe.read(1)\n",
      "efe.close()"
     ],
     "language": "python",
     "metadata": {},
     "outputs": [
      {
       "output_type": "stream",
       "stream": "stdout",
       "text": [
        "3\n",
        ".\n",
        "1\n",
        "4\n",
        "1\n",
        "5\n",
        "9\n",
        "2\n",
        "6\n",
        "5\n"
       ]
      }
     ],
     "prompt_number": 32
    },
    {
     "cell_type": "code",
     "collapsed": false,
     "input": [
      "# Se demora m\u00e1s o menos media hora\n",
      "many=100000000\n",
      "efe=open('pi-billion.txt','r')\n",
      "suma=3\n",
      "efe.read(1)\n",
      "efe.read(1)\n",
      "for i in range(many):\n",
      "    suma+=int(efe.read(1))\n",
      "efe.close()"
     ],
     "language": "python",
     "metadata": {},
     "outputs": []
    }
   ],
   "metadata": {}
  }
 ]
}