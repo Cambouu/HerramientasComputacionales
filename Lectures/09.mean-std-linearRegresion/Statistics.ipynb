{
 "metadata": {
  "name": "Statistics"
 },
 "nbformat": 3,
 "nbformat_minor": 0,
 "worksheets": [
  {
   "cells": [
    {
     "cell_type": "markdown",
     "metadata": {},
     "source": [
      "# Estadistica Basica\n",
      "\n",
      "Anteriormente estudiamos la distribuci\u00f3n normal y sobre histogramas. Ahora estudiaremos algunos conceptos basicos de estadistica.\n",
      "\n",
      "## Contenido \n",
      "\n",
      "1. Funcion de distribucion.\n",
      "2. Valor Medio, Valor Esperado  y Mediana.\n",
      "3. Varianza.\n",
      "4. Desviacion Estandar.\n",
      "5. Funci\u00f3n de correlaci\u00f3n."
     ]
    },
    {
     "cell_type": "markdown",
     "metadata": {},
     "source": [
      "# Funci\u00f3n de distribuci\u00f3n (Distribution Function)\n",
      "\n",
      "Es la suma acumulada de la probabilidad de que una variable estocastica ocurra.\n",
      "\n",
      "Se define como:\n",
      "\n",
      "$P(x) = \\sum_{i=1}^{n} p_i \\Theta(x-x_1)$\n",
      "\n",
      "Donde $p_i$ es la probabilidad de que $x$ tenga un valor $x_{i}$ y la funcion $\\Theta$ es al funcion de Heaviside que se define como:\n",
      "   \n",
      "$\\Theta(x) = 0 \\ \\ $   si $(x\\{<}0)$\n",
      "\n",
      "y $\\Theta(x)=1 \\ \\ $ si $(x\\{>}0)$\n",
      "\n",
      "Note que la Distribuci\u00f3n de probabilidad es la derivada de la Funci\u00f3n de distribuci\u00f3n"
     ]
    },
    {
     "cell_type": "code",
     "collapsed": false,
     "input": [
      "%pylab inline\n",
      "from numpy import random"
     ],
     "language": "python",
     "metadata": {},
     "outputs": [
      {
       "output_type": "stream",
       "stream": "stdout",
       "text": [
        "\n",
        "Welcome to pylab, a matplotlib-based Python environment [backend: module://IPython.zmq.pylab.backend_inline].\n",
        "For more information, type 'help(pylab)'.\n"
       ]
      }
     ],
     "prompt_number": 1
    },
    {
     "cell_type": "code",
     "collapsed": false,
     "input": [
      "x = np.zeros(10000)\n",
      "for i in range(len(x)):\n",
      "    x[i] = random.normal(10)\n"
     ],
     "language": "python",
     "metadata": {},
     "outputs": [],
     "prompt_number": 79
    },
    {
     "cell_type": "code",
     "collapsed": false,
     "input": [
      "Nbins = 50\n",
      "h = hist(x, normed=True, bins=Nbins)"
     ],
     "language": "python",
     "metadata": {},
     "outputs": [
      {
       "output_type": "display_data",
       "png": "[encoded data removed]"
      }
     ],
     "prompt_number": 53
    },
    {
     "cell_type": "code",
     "collapsed": false,
     "input": [
      "p = hist(x, cumulative='true', bins=Nbins, normed=True)"
     ],
     "language": "python",
     "metadata": {},
     "outputs": [
      {
       "output_type": "display_data",
       "png": "[encoded data removed]"
      }
     ],
     "prompt_number": 62
    },
    {
     "cell_type": "markdown",
     "metadata": {},
     "source": [
      "# Ejercicio:\n",
      "\n",
      "1. Como funciona random.normal? \n",
      "\n",
      "2. Hacer la funcion de distribucion usando las siguientes probabilidades:\n",
      "\n",
      "    - np.random.exponential\n",
      "    - np.random.binomial\n",
      "    - np.random.multinomial(20, [1/6.]*6, size=1000000)"
     ]
    },
    {
     "cell_type": "markdown",
     "metadata": {},
     "source": [
      "# Promedio, Media y el valor mas probable."
     ]
    },
    {
     "cell_type": "markdown",
     "metadata": {},
     "source": [
      "## Promedio  $\\bar{x} $\n",
      "\n",
      "\n",
      "$\\bar{x} = \\dfrac{\\sum{x_i}}{N} $"
     ]
    },
    {
     "cell_type": "code",
     "collapsed": false,
     "input": [
      "x_mean = np.mean(x)\n",
      "print x_mean"
     ],
     "language": "python",
     "metadata": {},
     "outputs": [
      {
       "output_type": "stream",
       "stream": "stdout",
       "text": [
        "10.0035920112\n"
       ]
      }
     ],
     "prompt_number": 68
    },
    {
     "cell_type": "markdown",
     "metadata": {},
     "source": [
      "## La mediana $(x_{m})$\n",
      "\n",
      "Es el valor que divide la funcion de probabilidad en partes iguales.\n",
      "\n",
      "$F(x_m) = \\dfrac{1}{2}$"
     ]
    },
    {
     "cell_type": "code",
     "collapsed": false,
     "input": [
      "x_median = np.median(x)\n",
      "print x_median"
     ],
     "language": "python",
     "metadata": {},
     "outputs": [
      {
       "output_type": "stream",
       "stream": "stdout",
       "text": [
        "10.0088854644\n"
       ]
      }
     ],
     "prompt_number": 69
    },
    {
     "cell_type": "markdown",
     "metadata": {},
     "source": [
      "## Valor mas probable $(x_p)$\n",
      "\n",
      "Es el valor con mas probabilidad, es decir donde  $P(x_p)$ es maximo."
     ]
    },
    {
     "cell_type": "code",
     "collapsed": false,
     "input": [
      "x_mp = x[where == np.max(h[0])]\n",
      "print x_mp"
     ],
     "language": "python",
     "metadata": {},
     "outputs": [
      {
       "output_type": "stream",
       "stream": "stdout",
       "text": [
        "8.82813756605\n"
       ]
      }
     ],
     "prompt_number": 71
    },
    {
     "cell_type": "code",
     "collapsed": false,
     "input": [
      "figure(figsize=(7, 7))\n",
      "h = hist(x, normed=True, bins=Nbins, histtype='step')\n",
      "axvline(x_mp, c='r')\n",
      "axvline(x_mean, c='g')\n",
      "axvline(x_median, c='b')\n",
      "ylim([0, 0.5])"
     ],
     "language": "python",
     "metadata": {},
     "outputs": [
      {
       "output_type": "pyout",
       "prompt_number": 73,
       "text": [
        "(0, 0.5)"
       ]
      },
      {
       "output_type": "display_data",
       "png": "[encoded data removed]"
      }
     ],
     "prompt_number": 73
    },
    {
     "cell_type": "markdown",
     "metadata": {},
     "source": [
      "# Ejercicio: \n",
      "    \n",
      "Graficar el promedio, la mediana y el valor mas probable de las tres distribuciones del ejercicio anterior."
     ]
    },
    {
     "cell_type": "markdown",
     "metadata": {},
     "source": [
      "# Varianza:  \n",
      "\n",
      "$\\bar{x^2} - \\bar{x}^{2}$"
     ]
    },
    {
     "cell_type": "code",
     "collapsed": false,
     "input": [
      "np.var(x)"
     ],
     "language": "python",
     "metadata": {},
     "outputs": [
      {
       "output_type": "pyout",
       "prompt_number": 80,
       "text": [
        "1.0002480565823817"
       ]
      }
     ],
     "prompt_number": 80
    },
    {
     "cell_type": "markdown",
     "metadata": {},
     "source": [
      "#Desviacion Estandar\n",
      "\n",
      "Es un promedio de las incertidumbres de las mediciones $x_i$\n",
      "\n",
      "$\\sigma = \\sqrt{\\dfrac{1}{N-1} \\sum(x_{i} - \\bar{x})^2}$\n",
      "\n"
     ]
    },
    {
     "cell_type": "code",
     "collapsed": false,
     "input": [
      "np.std(x)"
     ],
     "language": "python",
     "metadata": {},
     "outputs": [
      {
       "output_type": "pyout",
       "prompt_number": 82,
       "text": [
        "1.0001240206006361"
       ]
      }
     ],
     "prompt_number": 82
    },
    {
     "cell_type": "markdown",
     "metadata": {},
     "source": [
      "# Funci\u00f3n de Correlaci\u00f3n\n",
      "\n",
      "$cor(x, y) = \\dfrac{<({(x-\\bar{x})(y-\\bar{y})})>}{\\sigma_x \\sigma_{y}} $"
     ]
    },
    {
     "cell_type": "markdown",
     "metadata": {},
     "source": [
      "\n",
      "#Ejercicio:\n",
      "\n",
      "Compruebe si se cumplen las siguientes propiedades:\n",
      "\n",
      "1. Cor(X,Y) = Cor(Y, X)\n",
      "2. Cor(X,X) = 1\n",
      "3. Cor(X,-X) = -1\n",
      "4. Cor(aX+b, cY + d) = Cor(X, Y), si a y c != 0"
     ]
    }
   ],
   "metadata": {}
  }
 ]
}