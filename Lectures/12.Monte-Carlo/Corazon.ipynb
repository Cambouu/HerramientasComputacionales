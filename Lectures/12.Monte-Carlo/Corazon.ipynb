{
 "metadata": {
  "kernelspec": {
   "display_name": "Python 3",
   "language": "python",
   "name": "python3"
  },
  "language_info": {
   "codemirror_mode": {
    "name": "ipython",
    "version": 3
   },
   "file_extension": ".py",
   "mimetype": "text/x-python",
   "name": "python",
   "nbconvert_exporter": "python",
   "pygments_lexer": "ipython3",
   "version": "3.4.3"
  },
  "name": ""
 },
 "nbformat": 3,
 "nbformat_minor": 0,
 "worksheets": [
  {
   "cells": [
    {
     "cell_type": "heading",
     "level": 1,
     "metadata": {},
     "source": [
      "Calcule el \u00e1rea de un coraz\u00f3n usando el m\u00e9todo de Monte Carlo"
     ]
    },
    {
     "cell_type": "markdown",
     "metadata": {},
     "source": [
      "Hay muchas maneras de expresar matem\u00e1ticamente un [coraz\u00f3n](http://mathworld.wolfram.com/HeartCurve.html). Una de ellas es la siguiente:\n",
      "\n",
      "$$ar(x) = (1-(|x|-1)^2)^\\frac{1}{2}$$\n",
      "\n",
      "$$ab(x) = \\arccos(1-|x|) - \\pi$$\n",
      "\n",
      "Donde **ar** corresponde a la parte de arriba, y **ab** a la parte de abajo.\n",
      "\n",
      "Asumiendo un dominio en x entre -2 y 2:\n",
      "\n",
      "- Grafique el coraz\u00f3n\n",
      "- Calcule el \u00e1rea del coraz\u00f3n usando el m\u00e9todo de muestreo directo de MonteCarlo. Use 10000 puntos.\n",
      "- Grafique su c\u00e1lculo donde muestre claramente: \n",
      "    - Los puntos simulados\n",
      "    - los rangos de muestreo xlim y ylim\n",
      "    - la parte de arriba y abajo del coraz\u00f3n\n",
      "    - los puntos que est\u00e1n adentro del coraz\u00f3n en color rojo"
     ]
    }
   ],
   "metadata": {}
  }
 ]
}