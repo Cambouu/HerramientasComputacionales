{
 "cells": [
  {
   "cell_type": "markdown",
   "metadata": {},
   "source": [
    "# Calcule el área de un corazón usando el método de Monte Carlo"
   ]
  },
  {
   "cell_type": "markdown",
   "metadata": {},
   "source": [
    "Hay muchas maneras de expresar matemáticamente un [corazón](http://mathworld.wolfram.com/HeartCurve.html). Una de ellas es la siguiente:\n",
    "\n",
    "$$ar(x) = (1-(|x|-1)^2)^\\frac{1}{2}$$\n",
    "\n",
    "$$ab(x) = \\arccos(1-|x|) - \\pi$$\n",
    "\n",
    "Donde **ar** corresponde a la parte de arriba, y **ab** a la parte de abajo.\n",
    "\n",
    "Asumiendo un dominio en x entre -2 y 2:\n",
    "\n",
    "- Grafique el corazón\n",
    "- Calcule el área del corazón usando el método de muestreo directo de MonteCarlo. Use 10000 puntos.\n",
    "- Grafique su cálculo donde muestre claramente: \n",
    "    - Los puntos simulados\n",
    "    - los rangos de muestreo xlim y ylim\n",
    "    - la parte de arriba y abajo del corazón\n",
    "    - los puntos que están adentro del corazón en color rojo"
   ]
  },
  {
   "cell_type": "code",
   "execution_count": null,
   "metadata": {
    "collapsed": true
   },
   "outputs": [],
   "source": []
  }
 ],
 "metadata": {
  "kernelspec": {
   "display_name": "Python 3",
   "language": "python",
   "name": "python3"
  },
  "language_info": {
   "codemirror_mode": {
    "name": "ipython",
    "version": 3
   },
   "file_extension": ".py",
   "mimetype": "text/x-python",
   "name": "python",
   "nbconvert_exporter": "python",
   "pygments_lexer": "ipython3",
   "version": "3.4.3"
  }
 },
 "nbformat": 4,
 "nbformat_minor": 0
}
