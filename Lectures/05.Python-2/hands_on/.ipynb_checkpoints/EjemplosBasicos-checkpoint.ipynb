{
 "metadata": {
  "name": "",
  "signature": "sha256:e31c432b731ecbf2da7f919b2f5b49a8364b705c21d0eafb8ea9c6a679da889c"
 },
 "nbformat": 3,
 "nbformat_minor": 0,
 "worksheets": [
  {
   "cells": [
    {
     "cell_type": "code",
     "collapsed": false,
     "input": [
      "%pylab inline \n",
      "# (%pylab == import numpy as np && import matplotlib as plt), (inline == graficas dentro del notebook)"
     ],
     "language": "python",
     "metadata": {},
     "outputs": [
      {
       "output_type": "stream",
       "stream": "stdout",
       "text": [
        "Populating the interactive namespace from numpy and matplotlib\n"
       ]
      }
     ],
     "prompt_number": 1
    },
    {
     "cell_type": "heading",
     "level": 1,
     "metadata": {},
     "source": [
      "Numpy"
     ]
    },
    {
     "cell_type": "raw",
     "metadata": {},
     "source": [
      "Referencias:"
     ]
    },
    {
     "cell_type": "markdown",
     "metadata": {},
     "source": [
      "http://docs.scipy.org/doc/numpy/reference/"
     ]
    },
    {
     "cell_type": "raw",
     "metadata": {},
     "source": [
      "Caracteristicas principales:\n",
      "   - Arrays\n",
      "   - Funciones Trigonometricas\n",
      "   - Numeros aleatorios"
     ]
    },
    {
     "cell_type": "heading",
     "level": 2,
     "metadata": {},
     "source": [
      "Arrays"
     ]
    },
    {
     "cell_type": "code",
     "collapsed": false,
     "input": [
      "a = np.array([2, 5, 6, 3])\n",
      "\n",
      "print(a)\n",
      "print(type(a))\n",
      "print(dtype(a[0]))"
     ],
     "language": "python",
     "metadata": {},
     "outputs": [
      {
       "output_type": "stream",
       "stream": "stdout",
       "text": [
        "[2 5 6 3]\n",
        "<class 'numpy.ndarray'>\n",
        "int64\n"
       ]
      }
     ],
     "prompt_number": 3
    },
    {
     "cell_type": "code",
     "collapsed": false,
     "input": [
      "b = np.array([3, 9999, 32, 1])\n",
      "\n",
      "c = a*b\n",
      "d = a+b\n",
      "e = a/b\n",
      "\n",
      "print(c)\n",
      "print(d)\n",
      "print(e)"
     ],
     "language": "python",
     "metadata": {},
     "outputs": [
      {
       "output_type": "stream",
       "stream": "stdout",
       "text": [
        "[    6 49995   192     3]\n",
        "[    5 10004    38     4]\n",
        "[  6.66666667e-01   5.00050005e-04   1.87500000e-01   3.00000000e+00]\n"
       ]
      }
     ],
     "prompt_number": 4
    },
    {
     "cell_type": "raw",
     "metadata": {},
     "source": [
      "2D Arrays"
     ]
    },
    {
     "cell_type": "code",
     "collapsed": false,
     "input": [
      "x = np.array([[1, 2],[3, 4],[5, 6]])\n",
      "print(x, shape(x))"
     ],
     "language": "python",
     "metadata": {},
     "outputs": [
      {
       "output_type": "stream",
       "stream": "stdout",
       "text": [
        "[[1 2]\n",
        " [3 4]\n",
        " [5 6]] (3, 2)\n"
       ]
      }
     ],
     "prompt_number": 6
    },
    {
     "cell_type": "code",
     "collapsed": false,
     "input": [
      "a = arange(18).reshape(9, 2)\n",
      "b = x.reshape(2, 3)\n",
      "print(a, shape(b))\n",
      "print(b)"
     ],
     "language": "python",
     "metadata": {},
     "outputs": [
      {
       "output_type": "stream",
       "stream": "stdout",
       "text": [
        "[[ 0  1]\n",
        " [ 2  3]\n",
        " [ 4  5]\n",
        " [ 6  7]\n",
        " [ 8  9]\n",
        " [10 11]\n",
        " [12 13]\n",
        " [14 15]\n",
        " [16 17]] (2, 3)\n",
        "[[1 2 3]\n",
        " [4 5 6]]\n"
       ]
      }
     ],
     "prompt_number": 7
    },
    {
     "cell_type": "code",
     "collapsed": false,
     "input": [
      "a = np.array([[8, 3],[5, 7],[2, 3]])\n",
      "x = np.array([[1, 2, 3],[4, 5, 6]])\n",
      "\n",
      "print(a)\n",
      "print(x)\n",
      "np.dot(a, x)"
     ],
     "language": "python",
     "metadata": {},
     "outputs": [
      {
       "output_type": "stream",
       "stream": "stdout",
       "text": [
        "[[8 3]\n",
        " [5 7]\n",
        " [2 3]]\n",
        "[[1 2 3]\n",
        " [4 5 6]]\n"
       ]
      },
      {
       "metadata": {},
       "output_type": "pyout",
       "prompt_number": 8,
       "text": [
        "array([[20, 31, 42],\n",
        "       [33, 45, 57],\n",
        "       [14, 19, 24]])"
       ]
      }
     ],
     "prompt_number": 8
    },
    {
     "cell_type": "heading",
     "level": 2,
     "metadata": {},
     "source": [
      "Funciones Trigonometricas"
     ]
    },
    {
     "cell_type": "raw",
     "metadata": {},
     "source": [
      "Esta en raidanes!"
     ]
    },
    {
     "cell_type": "code",
     "collapsed": false,
     "input": [
      "a = [0, pi/4., pi/2., pi, 3*pi/2., 2*pi]\n",
      "\n",
      "c = [cos(a[3]), sin(a[5])]\n",
      "\n",
      "print(c)"
     ],
     "language": "python",
     "metadata": {},
     "outputs": [
      {
       "output_type": "stream",
       "stream": "stdout",
       "text": [
        "[-1.0, -2.4492935982947064e-16]\n"
       ]
      }
     ],
     "prompt_number": 10
    },
    {
     "cell_type": "code",
     "collapsed": false,
     "input": [
      "a = log(10)\n",
      "b = log10(10)\n",
      "\n",
      "print(a, b)"
     ],
     "language": "python",
     "metadata": {},
     "outputs": [
      {
       "output_type": "stream",
       "stream": "stdout",
       "text": [
        "2.30258509299 1.0\n"
       ]
      }
     ],
     "prompt_number": 12
    },
    {
     "cell_type": "heading",
     "level": 2,
     "metadata": {},
     "source": [
      "Random Numbers:"
     ]
    },
    {
     "cell_type": "code",
     "collapsed": false,
     "input": [
      "a = np.random.random(10)\n",
      "print(a)"
     ],
     "language": "python",
     "metadata": {},
     "outputs": [
      {
       "output_type": "stream",
       "stream": "stdout",
       "text": [
        "[ 0.02241319  0.1911207   0.93928804  0.66277326  0.43430562  0.43355879\n",
        "  0.92664156  0.84113051  0.14203074  0.26840068]\n"
       ]
      }
     ],
     "prompt_number": 14
    },
    {
     "cell_type": "raw",
     "metadata": {},
     "source": [
      "ahm se me olvido como funciona una funcion!! "
     ]
    },
    {
     "cell_type": "code",
     "collapsed": false,
     "input": [
      "np.random.normal?"
     ],
     "language": "python",
     "metadata": {},
     "outputs": [],
     "prompt_number": 15
    },
    {
     "cell_type": "code",
     "collapsed": false,
     "input": [
      "np.random.normal(1, 10, 20)"
     ],
     "language": "python",
     "metadata": {},
     "outputs": [
      {
       "metadata": {},
       "output_type": "pyout",
       "prompt_number": 16,
       "text": [
        "array([  6.30815203,  -7.23572265,   9.23230735,   9.04864886,\n",
        "        12.20941017,   0.89634173,   5.24771767, -10.73194493,\n",
        "        13.16107829, -18.70560855,  -1.90510823,  -2.18434261,\n",
        "       -13.86064017,  -8.56617375, -14.26260515,   9.60895188,\n",
        "        -8.80365629,  -3.13602402, -10.24175471,   8.56483727])"
       ]
      }
     ],
     "prompt_number": 16
    },
    {
     "cell_type": "code",
     "collapsed": false,
     "input": [
      "np.linspace(1, 10, 10)"
     ],
     "language": "python",
     "metadata": {},
     "outputs": [
      {
       "metadata": {},
       "output_type": "pyout",
       "prompt_number": 17,
       "text": [
        "array([  1.,   2.,   3.,   4.,   5.,   6.,   7.,   8.,   9.,  10.])"
       ]
      }
     ],
     "prompt_number": 17
    },
    {
     "cell_type": "heading",
     "level": 1,
     "metadata": {},
     "source": [
      "Scipy"
     ]
    },
    {
     "cell_type": "raw",
     "metadata": {},
     "source": [
      "Referencias:\n",
      "    algebra lineal: http://docs.scipy.org/doc/scipy/reference/tutorial/linalg.html\n",
      "    funciones especiales: http://docs.scipy.org/doc/scipy/reference/tutorial/special.html\n",
      "    "
     ]
    },
    {
     "cell_type": "heading",
     "level": 1,
     "metadata": {},
     "source": [
      "Funciones"
     ]
    },
    {
     "cell_type": "code",
     "collapsed": false,
     "input": [
      "def pitagoras(x, y):\n",
      "    z = np.sqrt(x**2 + y**2)\n",
      "    return z"
     ],
     "language": "python",
     "metadata": {},
     "outputs": [],
     "prompt_number": 18
    },
    {
     "cell_type": "code",
     "collapsed": false,
     "input": [
      "def trigo():\n",
      "    h = 10*pitagoras(1, 2)\n",
      "    return h"
     ],
     "language": "python",
     "metadata": {},
     "outputs": [],
     "prompt_number": 19
    },
    {
     "cell_type": "code",
     "collapsed": false,
     "input": [
      "trigo()"
     ],
     "language": "python",
     "metadata": {},
     "outputs": [
      {
       "metadata": {},
       "output_type": "pyout",
       "prompt_number": 20,
       "text": [
        "22.360679774997898"
       ]
      }
     ],
     "prompt_number": 20
    },
    {
     "cell_type": "code",
     "collapsed": false,
     "input": [
      "pitagoras(3,4)"
     ],
     "language": "python",
     "metadata": {},
     "outputs": [
      {
       "metadata": {},
       "output_type": "pyout",
       "prompt_number": 21,
       "text": [
        "5.0"
       ]
      }
     ],
     "prompt_number": 21
    }
   ],
   "metadata": {}
  }
 ]
}