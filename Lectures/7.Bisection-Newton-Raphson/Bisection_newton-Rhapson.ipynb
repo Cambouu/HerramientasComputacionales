{
 "metadata": {
  "name": "Bisection_newton-Rhapson"
 },
 "nbformat": 3,
 "nbformat_minor": 0,
 "worksheets": [
  {
   "cells": [
    {
     "cell_type": "heading",
     "level": 1,
     "metadata": {},
     "source": [
      "Bisection Algorithm "
     ]
    },
    {
     "cell_type": "markdown",
     "metadata": {},
     "source": [
      "The main idea behind this algorithms is to find the root of a given number N."
     ]
    },
    {
     "cell_type": "markdown",
     "metadata": {},
     "source": [
      "For a moment think how does your calculator or the command: np.sqrt() compute the root of a number. Discuss this with your partner and \n",
      "try to implement in Python your idea."
     ]
    },
    {
     "cell_type": "code",
     "collapsed": false,
     "input": [
      "%pylab inline"
     ],
     "language": "python",
     "metadata": {},
     "outputs": [
      {
       "output_type": "stream",
       "stream": "stdout",
       "text": [
        "\n",
        "Welcome to pylab, a matplotlib-based Python environment [backend: module://IPython.zmq.pylab.backend_inline].\n",
        "For more information, type 'help(pylab)'.\n"
       ]
      }
     ],
     "prompt_number": 2
    },
    {
     "cell_type": "markdown",
     "metadata": {},
     "source": [
      "El metodo de bisecci\u00f3n consiste en encontrar iterativamente las raicez de un n\u00famero o un polinomio. \n",
      "Por ejemplo siqueremos encontrar la ra\u00edz de 10 el m\u00e9todo funcionar\u00eda asi\u00ed:\n",
      "\n",
      "1, El n\u00famero estara entre [0, 10]\n",
      "\n",
      "2, Empezamos adivinando en el n\u00famero intermedio de este intervalo es decir 5.\n",
      "\n",
      "3, Calculamos $5^2 = 25\\ $ y lo comparamos con 10, evidentemente 25 es mayor a 10, por lo que seguramente\n",
      "la raiz sera un n\u00famero menor a 5. \n",
      "\n",
      "4, Buscamos un n\u00famero en el intervalo [0, 5]\n",
      "\n",
      "5, Y decidimos empezar por el del medio en este caso ser\u00eda 2.5 \n",
      "\n",
      "6, ahora calculamos $2.5^2 = 6.25\\ $  ahora lo comparamos con 10 y vemos que 6.25 es menor a 10, por lo que \n",
      "seguramente la ra\u00edz del numero ahora estara en el intervalo [2.5, 5].\n",
      "\n",
      "7, Iteramos el m\u00e9todo hasta que la ra\u00edz sera un n\u00famero a proximadamente 3.16"
     ]
    },
    {
     "cell_type": "markdown",
     "metadata": {},
     "source": [
      "## Ejemplo de un codigo que enceuntre la ra\u00edz de un n\u00famero x."
     ]
    },
    {
     "cell_type": "code",
     "collapsed": false,
     "input": [
      "def bisection(x, epsilon):\n",
      "    min_number = 0.0\n",
      "    max_number = max(1.0,x)\n",
      "    root = (min_number + max_number)/2.0\n",
      "    print root\n",
      "    iterations = 0\n",
      "\n",
      "    while abs(root**2 - x)> epsilon:\n",
      "        iterations += 1\n",
      "        if root**2 < x:\n",
      "            min_number = root\n",
      "        elif root**2 > x:\n",
      "            max_number = root\n",
      "        root = (min_number + max_number)/2.0\n",
      "    print \"La raiz cuadrada de\", x, \"es: \",root \n",
      "    print \"El numero de iteraciones para encontrar esta raiz fueron: \", iterations\n",
      "    "
     ],
     "language": "python",
     "metadata": {},
     "outputs": [],
     "prompt_number": 3
    },
    {
     "cell_type": "code",
     "collapsed": false,
     "input": [
      "bisection(0.25, 0.01)"
     ],
     "language": "python",
     "metadata": {},
     "outputs": [
      {
       "output_type": "stream",
       "stream": "stdout",
       "text": [
        "0.5\n",
        "La raiz cuadrada de 0.25 es:  0.5\n",
        "El numero de iteraciones para encontrar esta raiz fueron:  0\n"
       ]
      }
     ],
     "prompt_number": 9
    },
    {
     "cell_type": "heading",
     "level": 1,
     "metadata": {},
     "source": [
      "Newton-Rhapson Alogorithm"
     ]
    },
    {
     "cell_type": "markdown",
     "metadata": {},
     "source": [
      "En muchos problemas computacionales ser\u00e1 util encontrar las raices de una funci\u00f3n. Para eso utiizaremos el \n",
      "\n",
      "metodo de Newton-Rhapson. \n",
      "\n",
      "El m\u00e9todo consiste en adivinar un $x_0$ raiz de la fucion $f(x)$ y usa la derivada $f'(x)$ para hallar el paso dx definido como:\n",
      "\n",
      "\n",
      "$dx = - f(x)/f'(x)$\n",
      "\n",
      "Iterativamente hallamos $x_0$ como $x_0 + dx$ "
     ]
    },
    {
     "cell_type": "code",
     "collapsed": false,
     "input": [
      "def NR(x, epsilon):\n",
      "    root = x/2.0\n",
      "    iteration = 0.\n",
      "    while abs(root**2.0 - x) >= epsilon:\n",
      "        iteration += 1 \n",
      "        root = root - (((root**2.0) - x)/(2.0*root))\n",
      "    return root, iteration"
     ],
     "language": "python",
     "metadata": {},
     "outputs": [],
     "prompt_number": 18
    },
    {
     "cell_type": "code",
     "collapsed": false,
     "input": [
      "NR(0.25, 0.01)"
     ],
     "language": "python",
     "metadata": {},
     "outputs": [
      {
       "output_type": "pyout",
       "prompt_number": 19,
       "text": [
        "(0.5002821905998153, 4.0)"
       ]
      }
     ],
     "prompt_number": 19
    },
    {
     "cell_type": "heading",
     "level": 1,
     "metadata": {},
     "source": [
      "Exercise:"
     ]
    },
    {
     "cell_type": "markdown",
     "metadata": {},
     "source": [
      "1, Write an iPython notebook with a function that compute the nth root of any number using the Bisection algorithm. \n",
      "\n",
      "2, Write an iPython notebook with a function that compute the roots of the function $f(x) = x^2-1 \\ \\ $ using the Newton-Rhapson alogrithm."
     ]
    }
   ],
   "metadata": {}
  }
 ]
}