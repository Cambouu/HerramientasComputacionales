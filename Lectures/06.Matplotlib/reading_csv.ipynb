{
 "cells": [
  {
   "cell_type": "markdown",
   "metadata": {},
   "source": [
    "# Reading different files in python:"
   ]
  },
  {
   "cell_type": "markdown",
   "metadata": {},
   "source": [
    "# Contents: \n",
    "\n",
    "1. Reading a .txt & .dat data\n",
    "2. Reading a book\n",
    "3. Reading a csv (using numpy)\n",
    "4. Reading a csv using Pandas\n",
    "5. A basic tour of Pandas\n"
   ]
  },
  {
   "cell_type": "markdown",
   "metadata": {},
   "source": [
    "Important note: To read this ipynb you should use Jupiter (http://nbviewer.ipython.org/github/twistedhardware/mltutorial/blob/master/notebooks/jupyter/1.Introduction.ipynb)\n",
    "\n",
    "To make the upgrade type in a terminal:\n",
    "\n",
    "sudo pip install --upgrade \"ipython[all]\""
   ]
  },
  {
   "cell_type": "markdown",
   "metadata": {},
   "source": [
    "#1. Reading a book"
   ]
  },
  {
   "cell_type": "code",
   "execution_count": 1,
   "metadata": {
    "collapsed": false
   },
   "outputs": [
    {
     "name": "stdout",
     "output_type": "stream",
     "text": [
      "Using matplotlib backend: TkAgg\n",
      "Populating the interactive namespace from numpy and matplotlib\n"
     ]
    }
   ],
   "source": [
    "%pylab"
   ]
  },
  {
   "cell_type": "markdown",
   "metadata": {},
   "source": [
    "If you want to read a book we can use the python function open.\n",
    "Example: We want to read the book \"metamorphosis.txt\" "
   ]
  },
  {
   "cell_type": "code",
   "execution_count": 5,
   "metadata": {
    "collapsed": false
   },
   "outputs": [],
   "source": [
    "open(\"metamorphosis.txt\", \"r\")"
   ]
  },
  {
   "cell_type": "markdown",
   "metadata": {},
   "source": [
    "This just open the file in mode reading (\"r\"), but it doesn't read it. To do so use read. \n"
   ]
  },
  {
   "cell_type": "code",
   "execution_count": 9,
   "metadata": {
    "collapsed": false
   },
   "outputs": [],
   "source": [
    "f = open(\"metamorphosis.txt\", \"r\")\n",
    "book = f.read()\n",
    "#print book"
   ]
  },
  {
   "cell_type": "markdown",
   "metadata": {},
   "source": [
    "I open the book and call it \"f\" and then I read \"f\" what I read is now call it book, if \n",
    "you print book you would see all the metamorphosis book. But wait, which data type is book?"
   ]
  },
  {
   "cell_type": "code",
   "execution_count": 15,
   "metadata": {
    "collapsed": false
   },
   "outputs": [
    {
     "data": {
      "text/plain": [
       "str"
      ]
     },
     "execution_count": 15,
     "metadata": {},
     "output_type": "execute_result"
    }
   ],
   "source": [
    "type(book)"
   ]
  },
  {
   "cell_type": "markdown",
   "metadata": {},
   "source": [
    "Then I can print some parts of the book like this:"
   ]
  },
  {
   "cell_type": "code",
   "execution_count": 27,
   "metadata": {
    "collapsed": false
   },
   "outputs": [
    {
     "data": {
      "text/plain": [
       "'eBook is for the use of anyone anywhere at no cost and with\\r\\nalmost no restrictions whatsoever.  You'"
      ]
     },
     "execution_count": 27,
     "metadata": {},
     "output_type": "execute_result"
    }
   ],
   "source": [
    "book[100:200]"
   ]
  },
  {
   "cell_type": "markdown",
   "metadata": {},
   "source": [
    "here you can read more about the open function:\n",
    "https://docs.python.org/2/library/functions.html#open"
   ]
  },
  {
   "cell_type": "code",
   "execution_count": null,
   "metadata": {
    "collapsed": true
   },
   "outputs": [],
   "source": [
    "If you want to read line by line you can use readline:"
   ]
  },
  {
   "cell_type": "code",
   "execution_count": 31,
   "metadata": {
    "collapsed": false
   },
   "outputs": [
    {
     "name": "stdout",
     "output_type": "stream",
     "text": [
      "\r\n",
      "\n",
      "The Project Gutenberg EBook of Metamorphosis, by Franz Kafka\r\n",
      "\n"
     ]
    }
   ],
   "source": [
    "f = open(\"metamorphosis.txt\", \"r\")\n",
    "print(f.readline()) \n",
    "print(f.readline()) "
   ]
  },
  {
   "cell_type": "code",
   "execution_count": null,
   "metadata": {
    "collapsed": true
   },
   "outputs": [],
   "source": [
    "To read all the book then you need to loop over the lines:"
   ]
  },
  {
   "cell_type": "code",
   "execution_count": 38,
   "metadata": {
    "collapsed": false
   },
   "outputs": [],
   "source": [
    "f = open(\"metamorphosis.txt\", \"r\")\n",
    "book = []\n",
    "for lines in f:\n",
    "    book.append(lines) "
   ]
  },
  {
   "cell_type": "markdown",
   "metadata": {},
   "source": [
    "#2. Reading a .txt & .dat files"
   ]
  },
  {
   "cell_type": "markdown",
   "metadata": {},
   "source": [
    "In general you don't want to read a data file line by line and off course you don't want your data as a string.\n",
    "To read data numpy is you best option. There are two main function to do this (loadtxt and genfromtxt) they are similar \n",
    "but genfromtxt has more options, so we will use genfromtxt."
   ]
  },
  {
   "cell_type": "code",
   "execution_count": 42,
   "metadata": {
    "collapsed": true
   },
   "outputs": [],
   "source": [
    "import numpy as np"
   ]
  },
  {
   "cell_type": "code",
   "execution_count": 43,
   "metadata": {
    "collapsed": false
   },
   "outputs": [
    {
     "name": "stdout",
     "output_type": "stream",
     "text": [
      "[[ 1.  2.]\n",
      " [ 3.  4.]\n",
      " [ 5.  6.]\n",
      " [ 7.  8.]]\n"
     ]
    }
   ],
   "source": [
    "data = np.genfromtxt(\"data.txt\")\n",
    "print data"
   ]
  },
  {
   "cell_type": "code",
   "execution_count": 45,
   "metadata": {
    "collapsed": false
   },
   "outputs": [
    {
     "data": {
      "text/plain": [
       "(4, 2)"
      ]
     },
     "execution_count": 45,
     "metadata": {},
     "output_type": "execute_result"
    }
   ],
   "source": [
    "np.shape(data) "
   ]
  },
  {
   "cell_type": "markdown",
   "metadata": {},
   "source": [
    "### Exercise:\n",
    "\n",
    "Select the x column of data."
   ]
  },
  {
   "cell_type": "markdown",
   "metadata": {},
   "source": [
    "alternatively you can use:"
   ]
  },
  {
   "cell_type": "code",
   "execution_count": 47,
   "metadata": {
    "collapsed": false
   },
   "outputs": [
    {
     "name": "stdout",
     "output_type": "stream",
     "text": [
      "[ 1.  3.  5.  7.] [ 2.  4.  6.  8.]\n",
      ":)\n"
     ]
    }
   ],
   "source": [
    "x, y = np.genfromtxt(\"data.txt\", unpack=True)\n",
    "print x, y"
   ]
  },
  {
   "cell_type": "markdown",
   "metadata": {},
   "source": [
    "#3. Reading a .csv using (numpy)"
   ]
  },
  {
   "cell_type": "code",
   "execution_count": 49,
   "metadata": {
    "collapsed": false
   },
   "outputs": [
    {
     "name": "stdout",
     "output_type": "stream",
     "text": [
      "[[  1.   2.]\n",
      " [  3.   4.]\n",
      " [  5.   6.]\n",
      " [  7.   8.]\n",
      " [  9.  10.]]\n"
     ]
    }
   ],
   "source": [
    "data = np.genfromtxt(\"data.csv\", delimiter=\",\")\n",
    "print data"
   ]
  },
  {
   "cell_type": "code",
   "execution_count": 57,
   "metadata": {
    "collapsed": false
   },
   "outputs": [
    {
     "data": {
      "text/plain": [
       "array([  5.00100000e+03,              nan,              nan,\n",
       "         3.92400000e+03,   1.68839400e+06,              nan,\n",
       "         4.58500000e+03,   1.72176700e+06,   2.66296195e+02,\n",
       "         4.12000000e+03,   1.75671100e+06,   2.34529186e+02,\n",
       "         2.85200000e+03,   1.79349100e+06,   1.59019477e+02,\n",
       "         2.93200000e+03,   1.83219700e+06,   1.60026460e+02,\n",
       "         3.71100000e+03,   1.87224100e+06,   1.98211662e+02,\n",
       "         3.82400000e+03,   1.91286000e+06,   1.99910082e+02,\n",
       "         3.16900000e+03,   1.95329300e+06,   1.62238845e+02,\n",
       "         2.95000000e+03,   1.99278100e+06,   1.48034330e+02,\n",
       "         3.25800000e+03,   2.03056000e+06,   1.60448349e+02,\n",
       "         3.15100000e+03,   2.06587100e+06,   1.52526465e+02,\n",
       "         3.45600000e+03,   2.09861800e+06,   1.64679804e+02,\n",
       "         3.58900000e+03,   2.12987400e+06,   1.68507621e+02,\n",
       "         1.93800000e+03,   2.15960900e+06,   8.97384665e+01,\n",
       "         1.07400000e+03,   2.18783100e+06,   4.90897149e+01,\n",
       "         7.55000000e+02,   2.21449400e+06,   3.40935672e+01,\n",
       "         7.09000000e+02,   2.23900300e+06,   3.16658799e+01,\n",
       "         6.54000000e+02,   2.26524400e+06,   2.88710620e+01,\n",
       "         8.71000000e+02,   2.29137800e+06,   3.80120609e+01,\n",
       "         1.43200000e+03,   2.31733600e+06,   6.17950957e+01,\n",
       "         1.40800000e+03,   2.34304900e+06,   6.00926400e+01,\n",
       "         1.65100000e+03,   2.36828200e+06,   6.97100000e+01,\n",
       "         1.23900000e+03,   2.39301100e+06,   5.17757754e+01,\n",
       "         9.19000000e+02,   2.41732500e+06,   3.80172298e+01])"
      ]
     },
     "execution_count": 57,
     "metadata": {},
     "output_type": "execute_result"
    }
   ],
   "source": [
    "data = np.genfromtxt(\"homicidios.1990.a.2013.csv\", delimiter=\",\")\n",
    "data[1]"
   ]
  },
  {
   "cell_type": "code",
   "execution_count": 60,
   "metadata": {
    "collapsed": true
   },
   "outputs": [],
   "source": [
    "filling_values = []\n",
    "for i in range(75):\n",
    "    filling_values.append(999)"
   ]
  },
  {
   "cell_type": "code",
   "execution_count": 61,
   "metadata": {
    "collapsed": false
   },
   "outputs": [],
   "source": [
    "data = np.genfromtxt(\"homicidios.1990.a.2013.csv\", delimiter=\",\", filling_values=filling_values)"
   ]
  },
  {
   "cell_type": "markdown",
   "metadata": {},
   "source": [
    "http://docs.scipy.org/doc/numpy/reference/generated/numpy.genfromtxt.html\n",
    "http://bulldog2.redlands.edu/facultyfolder/deweerd/tutorials/Tutorial-ReadingWritingData.pdf"
   ]
  },
  {
   "cell_type": "markdown",
   "metadata": {
    "collapsed": false
   },
   "source": [
    "# 4. Reading .csv using pandas"
   ]
  },
  {
   "cell_type": "code",
   "execution_count": 64,
   "metadata": {
    "collapsed": false
   },
   "outputs": [],
   "source": [
    "import pandas \n",
    "data = pandas.read_csv(\"homicidios.1990.a.2013.csv\",parse_dates=True) "
   ]
  },
  {
   "cell_type": "code",
   "execution_count": 66,
   "metadata": {
    "collapsed": false
   },
   "outputs": [
    {
     "name": "stdout",
     "output_type": "stream",
     "text": [
      "        cod               municipio departamento  hom90    pob90       tas90  \\\n",
      "0      5001                Medellín    Antioquia   3924  1688394  232.410208   \n",
      "1      5002               Abejorral    Antioquia     33    24789  133.123563   \n",
      "2      5004                Abriaquí    Antioquia      5     3201  156.201187   \n",
      "3      5021              Alejandría    Antioquia      7     4851  144.300144   \n",
      "4      5030                   Amagá    Antioquia     31    23606  131.322545   \n",
      "5      5031                  Amalfi    Antioquia     25    18535  134.879957   \n",
      "6      5034                   Andes    Antioquia     50    38759  129.002296   \n",
      "7      5036             Angelópolis    Antioquia      8     6144  130.208333   \n",
      "8      5038               Angostura    Antioquia     18    13133  137.059316   \n",
      "9      5040                   Anorí    Antioquia     18    12351  145.737187   \n",
      "10     5042    Santafé de Antioquia    Antioquia     28    20698  135.278771   \n",
      "11     5044                    Anza    Antioquia     10     6752  148.104265   \n",
      "12     5045                Apartadó    Antioquia      0    68183    0.000000   \n",
      "13     5051               Arboletes    Antioquia     29    29178   99.389951   \n",
      "14     5055                 Argelia    Antioquia     16    11831  135.237934   \n",
      "15     5059                 Armenia    Antioquia      9     6771  132.919805   \n",
      "16     5079                 Barbosa    Antioquia    281    32746  858.120076   \n",
      "17     5086                 Belmira    Antioquia      7     5615  124.666073   \n",
      "18     5088                   Bello    Antioquia    658   261996  251.148873   \n",
      "19     5091                 Betania    Antioquia     15    12150  123.456790   \n",
      "20     5093                 Betulia    Antioquia     21    15543  135.109052   \n",
      "21     5101          Ciudad Bolívar    Antioquia     37    29703  124.566542   \n",
      "22     5107                 Briceño    Antioquia     12     8689  138.105651   \n",
      "23     5113                Buriticá    Antioquia     10     7217  138.561729   \n",
      "24     5120                 Cáceres    Antioquia     28    19756  141.729095   \n",
      "25     5125                 Caicedo    Antioquia      9     6735  133.630290   \n",
      "26     5129                  Caldas    Antioquia    277    51902  533.698123   \n",
      "27     5134              Campamento    Antioquia     14    10118  138.367266   \n",
      "28     5138             Cañasgordas    Antioquia     27    19612  137.670814   \n",
      "29     5142                Caracolí    Antioquia      9     6237  144.300144   \n",
      "...     ...                     ...          ...    ...      ...         ...   \n",
      "1092  91430       La Victoria (ANM)     Amazonas    NaN      NaN         NaN   \n",
      "1093  91460   Miriti - Paraná (ANM)     Amazonas      0     2528    0.000000   \n",
      "1094  91530    Puerto Alegría (ANM)     Amazonas    NaN      NaN         NaN   \n",
      "1095  91536      Puerto Arica (ANM)     Amazonas    NaN      NaN         NaN   \n",
      "1096  91540           Puerto Nariño     Amazonas      0     3632    0.000000   \n",
      "1097  91669  Puerto Santander (ANM)     Amazonas      0     1600    0.000000   \n",
      "1098  91798          Tarapacá (ANM)     Amazonas      0     2135    0.000000   \n",
      "1099  94001                 Inírida      Guainía      0    12824    0.000000   \n",
      "1100  94343    Barranco Minas (ANM)      Guainía      0     3640    0.000000   \n",
      "1101  94663        Mapiripana (ANM)      Guainía    NaN      NaN         NaN   \n",
      "1102  94883        San Felipe (ANM)      Guainía      0      793    0.000000   \n",
      "1103  94884   Puerto Colombia (ANM)      Guainía      0     1551    0.000000   \n",
      "1104  94885      La Guadalupe (ANM)      Guainía      0      156    0.000000   \n",
      "1105  94886          Cacahual (ANM)      Guainía      0      967    0.000000   \n",
      "1106  94887         Pana Pana (ANM)      Guainía      0     1048    0.000000   \n",
      "1107  94888          Morichal (ANM)      Guainía    NaN      NaN         NaN   \n",
      "1108  95001   San José del Guaviare     Guaviare      0    41433    0.000000   \n",
      "1109  95015                 Calamar     Guaviare      0     9253    0.000000   \n",
      "1110  95025              El Retorno     Guaviare      0     9921    0.000000   \n",
      "1111  95200              Miraflores     Guaviare      0     8282    0.000000   \n",
      "1112  97001                    Mitú       Vaupés      0    18840    0.000000   \n",
      "1113  97161                  Caruru       Vaupés      0     3686    0.000000   \n",
      "1114  97511             Pacoa (ANM)       Vaupés      0     1888    0.000000   \n",
      "1115  97666                 Taraira       Vaupés      0      996    0.000000   \n",
      "1116  97777          Papunaua (ANM)       Vaupés      0      814    0.000000   \n",
      "1117  97889          Yavaraté (ANM)       Vaupés      0     1212    0.000000   \n",
      "1118  99001          Puerto Carreño      Vichada      0    11801    0.000000   \n",
      "1119  99524            La Primavera      Vichada      0     5508    0.000000   \n",
      "1120  99624           Santa Rosalía      Vichada      0     1837    0.000000   \n",
      "1121  99773                Cumaribo      Vichada      0    11838    0.000000   \n",
      "\n",
      "      hom91    pob91        tas91  hom92     ...           tas10  hom11  \\\n",
      "0      4585  1721767   266.296195   4120     ...       60.092640   1651   \n",
      "1        25    24479   102.128355     22     ...       20.253165      6   \n",
      "2         4     3214   124.455507      3     ...        0.000000      0   \n",
      "3         5     4823   103.669915      5     ...        0.000000      0   \n",
      "4        24    23901   100.414209     21     ...       35.170401     34   \n",
      "5        19    18727   101.457788     17     ...       28.175628     19   \n",
      "6        38    38818    97.892730     34     ...       25.162988     27   \n",
      "7         6     6179    97.103091      5     ...       12.067093      2   \n",
      "8        14    13195   106.100796     12     ...        8.382230      6   \n",
      "9        14    12418   112.739572     12     ...       12.480499     25   \n",
      "10       21    20836   100.787099     19     ...        8.443094     13   \n",
      "11        7     6828   102.519039      7     ...       13.333333      2   \n",
      "12      154    71477   215.453922    210     ...       28.698335     91   \n",
      "13       22    28275    77.807250     20     ...       11.359764      3   \n",
      "14       12    11776   101.902174     11     ...       10.658708      1   \n",
      "15        7     6683   104.743379      6     ...        0.000000      2   \n",
      "16      384    33423  1148.909434    298     ...       49.808346     47   \n",
      "17        5     5640    88.652482      5     ...       15.434481      0   \n",
      "18      770   268685   286.580941    615     ...       21.297914     97   \n",
      "19       11    12030    91.438071     10     ...       61.362242      3   \n",
      "20       16    15623   102.413109     14     ...       23.304591      9   \n",
      "21       28    29619    94.533914     25     ...       28.881909      9   \n",
      "22        9     8718   103.234687      8     ...       57.175529     23   \n",
      "23        8     7222   110.772639      7     ...       14.727541      2   \n",
      "24       21    19953   105.247331     19     ...       69.606271     43   \n",
      "25        7     6786   103.153551      6     ...       12.602394      4   \n",
      "26      374    53122   704.039758    311     ...       84.822284     62   \n",
      "27       11    10107   108.835461      9     ...       31.962497     11   \n",
      "28       21    19638   106.935533     19     ...       17.848644      3   \n",
      "29        7     6184   113.195343      6     ...        0.000000      0   \n",
      "...     ...      ...          ...    ...     ...             ...    ...   \n",
      "1092    NaN      NaN          NaN    NaN     ...             NaN      0   \n",
      "1093    NaN     2616     0.000000    NaN     ...        0.000000      0   \n",
      "1094    NaN      NaN          NaN    NaN     ...             NaN      0   \n",
      "1095    NaN      NaN          NaN    NaN     ...             NaN      0   \n",
      "1096    NaN     3779     0.000000    NaN     ...        0.000000      1   \n",
      "1097    NaN     1658     0.000000    NaN     ...        0.000000      0   \n",
      "1098    NaN     2215     0.000000    NaN     ...        0.000000      2   \n",
      "1099      0    13320     0.000000      1     ...        5.289326      1   \n",
      "1100    NaN     1739     0.000000    NaN     ...        0.000000      0   \n",
      "1101    NaN      NaN          NaN    NaN     ...             NaN      0   \n",
      "1102    NaN      820     0.000000    NaN     ...        0.000000      0   \n",
      "1103    NaN     1603     0.000000    NaN     ...        0.000000      0   \n",
      "1104    NaN      161     0.000000    NaN     ...        0.000000      0   \n",
      "1105    NaN      997     0.000000    NaN     ...        0.000000      0   \n",
      "1106    NaN     1086     0.000000    NaN     ...        0.000000      0   \n",
      "1107    NaN      NaN          NaN    NaN     ...             NaN      0   \n",
      "1108      0    43008     0.000000      7     ...       99.520950     30   \n",
      "1109      0     9590     0.000000      0     ...      177.147919      3   \n",
      "1110      0    10274     0.000000      0     ...       14.268728      6   \n",
      "1111      0     8581     0.000000      0     ...      148.009660      1   \n",
      "1112      0    19580     0.000000      0     ...        0.000000      0   \n",
      "1113    NaN     3828     0.000000    NaN     ...        0.000000      1   \n",
      "1114    NaN     1955     0.000000    NaN     ...        0.000000      0   \n",
      "1115    NaN     1039     0.000000    NaN     ...        0.000000      0   \n",
      "1116    NaN      845     0.000000    NaN     ...        0.000000      0   \n",
      "1117    NaN     1257     0.000000    NaN     ...        0.000000      0   \n",
      "1118      0    12266     0.000000      5     ...       48.202727      7   \n",
      "1119      0     5705     0.000000      2     ...       15.594542      0   \n",
      "1120      0     1903     0.000000      0     ...       81.989615      0   \n",
      "1121      0    12297     0.000000      0     ...       45.922116      3   \n",
      "\n",
      "        pob11   tas11  hom12    pob12       tas12  hom13    pob13       tas13  \n",
      "0     2368282   69.71   1239  2393011   51.775775    919  2417325   38.017230  \n",
      "1       19672   30.50      7    19570   35.769034      6    19478   30.803984  \n",
      "2        2336    0.00      0     2290    0.000000      0     2231    0.000000  \n",
      "3        3618    0.00      0     3575    0.000000      1     3550   28.169014  \n",
      "4       28664  118.62     15    28897   51.908503     25    29117   85.860494  \n",
      "5       21449   88.58      9    21615   41.637752     14    21768   64.314590  \n",
      "6       44149   61.16     11    44573   24.678617     31    44994   68.898075  \n",
      "7        8415   23.77      6     8551   70.167232      7     8680   80.645161  \n",
      "8       11811   50.80      2    11695   17.101325      1    11579    8.636324  \n",
      "9       16237  153.97      6    16447   36.480817     13    16658   78.040581  \n",
      "10      23858   54.49     10    24025   41.623309     13    24202   53.714569  \n",
      "11       7515   26.61      0     7529    0.000000      4     7543   53.029299  \n",
      "12     158059   57.57     43   162914   26.394294     36   167895   21.441973  \n",
      "13      36149    8.30      7    37124   18.855727      6    38100   15.748031  \n",
      "14       9240   11.00      1     9108   10.979359      2     8968   22.301517  \n",
      "15       4578   43.69      2     4484   44.603033      4     4383   91.261693  \n",
      "16      46954  100.10     46    47722   96.391601     45    48503   92.777766  \n",
      "17       6534    0.00      2     6590   30.349014      7     6645  105.342363  \n",
      "18     421576   23.01    117   430034   27.207151     92   438577   20.976932  \n",
      "19       9688   30.97      2     9586   20.863760      1     9487   10.540740  \n",
      "20      17245   52.19      1    17317    5.774672      9    17409   51.697398  \n",
      "21      27579   32.63      8    27458   29.135407     22    27335   80.482897  \n",
      "22       8737  263.25      5     8728   57.286893     12     8720  137.614679  \n",
      "23       6758   29.59      1     6716   14.889815      6     6689   89.699507  \n",
      "24      33950  126.66     12    34865   34.418471     28    35823   78.162075  \n",
      "25       7992   50.05      1     8050   12.422360      2     8099   24.694407  \n",
      "26      74069   83.71     34    75033   45.313395     34    75984   44.746262  \n",
      "27       9330  117.90      4     9270   43.149946      4     9209   43.435769  \n",
      "28      16808   17.85      3    16793   17.864586      3    16780   17.878427  \n",
      "29       4700    0.00      1     4671   21.408692      1     4646   21.523892  \n",
      "...       ...     ...    ...      ...         ...    ...      ...         ...  \n",
      "1092     1054    0.00      0     1066    0.000000      0     1078    0.000000  \n",
      "1093     1565    0.00      0     1555    0.000000      0     1546    0.000000  \n",
      "1094     1645    0.00      0     1715    0.000000      0     1788    0.000000  \n",
      "1095     1389    0.00      0     1380    0.000000      0     1370    0.000000  \n",
      "1096     7691   13.00      0     7808    0.000000      0     7925    0.000000  \n",
      "1097     2701    0.00      0     2758    0.000000      0     2815    0.000000  \n",
      "1098     4033   49.59      0     4074    0.000000      0     4114    0.000000  \n",
      "1099    19096    5.24      0    19282    0.000000      5    19464   25.688450  \n",
      "1100     4686    0.00      0     4732    0.000000      0     4776    0.000000  \n",
      "1101     2949    0.00      0     2924    0.000000      0     2898    0.000000  \n",
      "1102     1748    0.00      0     1819    0.000000      0     1894    0.000000  \n",
      "1103     4342    0.00      0     4440    0.000000      0     4538    0.000000  \n",
      "1104      298    0.00      0      312    0.000000      0      326    0.000000  \n",
      "1105     2081    0.00      0     2173    0.000000      0     2270    0.000000  \n",
      "1106     2755    0.00      0     2851    0.000000      0     2948    0.000000  \n",
      "1107      994    0.00      0     1041    0.000000      0     1089    0.000000  \n",
      "1108    60334   49.72     34    61383   55.389929     42    62437   67.267806  \n",
      "1109     9948   30.16     10     9734  102.732690      6     9519   63.031831  \n",
      "1110    21414   28.02      7    21803   32.105674      4    22192   18.024513  \n",
      "1111    13150    7.60      1    13466    7.426110     10    13786   72.537357  \n",
      "1112    30349    0.00      1    30658    3.261791      2    30962    6.459531  \n",
      "1113     3304   30.27      0     3310    0.000000      0     3317    0.000000  \n",
      "1114     5189    0.00      0     5316    0.000000      0     5445    0.000000  \n",
      "1115     1007    0.00      0     1000    0.000000      0      992    0.000000  \n",
      "1116      861    0.00      0      857    0.000000      0      853    0.000000  \n",
      "1117     1255    0.00      0     1251    0.000000      0     1248    0.000000  \n",
      "1118    14767   47.40      4    15012   26.645350      6    15258   39.323634  \n",
      "1119    13301    0.00      4    13791   29.004423      4    14294   27.983769  \n",
      "1120     3734    0.00      0     3807    0.000000      0     3877    0.000000  \n",
      "1121    33480    8.96     19    34307   55.382283      8    35146   22.762192  \n",
      "\n",
      "[1122 rows x 75 columns]\n"
     ]
    }
   ],
   "source": [
    "print data"
   ]
  },
  {
   "cell_type": "code",
   "execution_count": null,
   "metadata": {
    "collapsed": true
   },
   "outputs": [],
   "source": []
  }
 ],
 "metadata": {
  "kernelspec": {
   "display_name": "Python 2",
   "language": "python",
   "name": "python2"
  },
  "language_info": {
   "codemirror_mode": {
    "name": "ipython",
    "version": 2
   },
   "file_extension": ".py",
   "mimetype": "text/x-python",
   "name": "python",
   "nbconvert_exporter": "python",
   "pygments_lexer": "ipython2",
   "version": "2.7.6"
  }
 },
 "nbformat": 4,
 "nbformat_minor": 0
}
