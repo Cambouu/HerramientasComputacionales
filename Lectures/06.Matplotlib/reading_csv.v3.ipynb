{
 "metadata": {
  "kernelspec": {
   "display_name": "Python 3",
   "language": "python",
   "name": "python3"
  },
  "language_info": {
   "codemirror_mode": {
    "name": "ipython",
    "version": 3
   },
   "file_extension": ".py",
   "mimetype": "text/x-python",
   "name": "python",
   "nbconvert_exporter": "python",
   "pygments_lexer": "ipython3",
   "version": "3.4.3"
  },
  "name": ""
 },
 "nbformat": 3,
 "nbformat_minor": 0,
 "worksheets": [
  {
   "cells": [
    {
     "cell_type": "heading",
     "level": 1,
     "metadata": {},
     "source": [
      "Reading different files in python:"
     ]
    },
    {
     "cell_type": "markdown",
     "metadata": {},
     "source": [
      "# Contents: \n",
      "\n",
      "1. Reading a .txt & .dat data\n",
      "2. Reading a book\n",
      "3. Reading a csv (using numpy)\n",
      "4. Reading a csv using Pandas\n",
      "5. A basic tour of Pandas\n"
     ]
    },
    {
     "cell_type": "markdown",
     "metadata": {},
     "source": [
      "Important note: To read this ipynb you should use Jupiter (http://nbviewer.ipython.org/github/twistedhardware/mltutorial/blob/master/notebooks/jupyter/1.Introduction.ipynb)\n",
      "\n",
      "To make the upgrade type in a terminal:\n",
      "\n",
      "sudo pip install --upgrade \"ipython[all]\""
     ]
    },
    {
     "cell_type": "heading",
     "level": 1,
     "metadata": {},
     "source": [
      "1. Reading a book"
     ]
    },
    {
     "cell_type": "code",
     "collapsed": false,
     "input": [
      "%pylab inline"
     ],
     "language": "python",
     "metadata": {},
     "outputs": [
      {
       "output_type": "stream",
       "stream": "stdout",
       "text": [
        "Populating the interactive namespace from numpy and matplotlib\n"
       ]
      }
     ],
     "prompt_number": 1
    },
    {
     "cell_type": "markdown",
     "metadata": {},
     "source": [
      "If you want to read a book we can use the python function open.\n",
      "Example: We want to read the book \"metamorphosis.txt\" "
     ]
    },
    {
     "cell_type": "code",
     "collapsed": false,
     "input": [
      "open(\"Sainte-Beuve.txt\", \"r\")"
     ],
     "language": "python",
     "metadata": {},
     "outputs": [
      {
       "metadata": {},
       "output_type": "pyout",
       "prompt_number": 2,
       "text": [
        "<_io.TextIOWrapper name='Sainte-Beuve.txt' mode='r' encoding='UTF-8'>"
       ]
      }
     ],
     "prompt_number": 2
    },
    {
     "cell_type": "markdown",
     "metadata": {},
     "source": [
      "This just open the file in mode reading (\"r\"), but it doesn't read it. To do so use read. \n"
     ]
    },
    {
     "cell_type": "code",
     "collapsed": false,
     "input": [
      "f = open(\"Sainte-Beuve.txt\", \"r\")\n",
      "book = f.read()\n",
      "#print book"
     ],
     "language": "python",
     "metadata": {},
     "outputs": [],
     "prompt_number": 3
    },
    {
     "cell_type": "markdown",
     "metadata": {},
     "source": [
      "I open the book and call it \"f\" and then I read \"f\" what I read is now call it book, if \n",
      "you print book you would see all the metamorphosis book. But wait, which data type is book?"
     ]
    },
    {
     "cell_type": "code",
     "collapsed": false,
     "input": [
      "type(book)"
     ],
     "language": "python",
     "metadata": {},
     "outputs": [
      {
       "metadata": {},
       "output_type": "pyout",
       "prompt_number": 4,
       "text": [
        "str"
       ]
      }
     ],
     "prompt_number": 4
    },
    {
     "cell_type": "markdown",
     "metadata": {},
     "source": [
      "Then I can print some parts of the book like this:"
     ]
    },
    {
     "cell_type": "code",
     "collapsed": false,
     "input": [
      "book[1900:2100]"
     ],
     "language": "python",
     "metadata": {},
     "outputs": [
      {
       "metadata": {},
       "output_type": "pyout",
       "prompt_number": 7,
       "text": [
        "\"ra ainsi, avec toutes r\u00e9f\u00e9rences utiles, un r\u00e9sum\u00e9 des relations\\nentre le grand po\u00ebte et l'illustre critique.\\n\\n[Illustration: ornement fin de page]\\n\\n\\n\\n\\nBAUDELAIRE ET SAINTE-BEUVE\\n\\n\\n\\n\\nI\\n\\n\\nLes relations\""
       ]
      }
     ],
     "prompt_number": 7
    },
    {
     "cell_type": "markdown",
     "metadata": {},
     "source": [
      "here you can read more about the open function:\n",
      "https://docs.python.org/2/library/functions.html#open"
     ]
    },
    {
     "cell_type": "code",
     "collapsed": true,
     "input": [
      "If you want to read line by line you can use readline:"
     ],
     "language": "python",
     "metadata": {},
     "outputs": [],
     "prompt_number": null
    },
    {
     "cell_type": "code",
     "collapsed": false,
     "input": [
      "f = open(\"Sainte-Beuve.txt\", \"r\")\n",
      "print(f.readline()) \n",
      "print(f.readline()) "
     ],
     "language": "python",
     "metadata": {},
     "outputs": [
      {
       "output_type": "stream",
       "stream": "stdout",
       "text": [
        "\ufeffProject Gutenberg's Baudelaire et Sainte-Beuve, by Fernand Vand\u00e9rem\n",
        "\n",
        "\n",
        "\n"
       ]
      }
     ],
     "prompt_number": 8
    },
    {
     "cell_type": "code",
     "collapsed": true,
     "input": [
      "To read all the book then you need to loop over the lines:"
     ],
     "language": "python",
     "metadata": {},
     "outputs": [],
     "prompt_number": null
    },
    {
     "cell_type": "code",
     "collapsed": false,
     "input": [
      "f = open(\"Sainte-Beuve.txt\", \"r\")\n",
      "book = []\n",
      "for lines in f:\n",
      "    book.append(lines) \n",
      "#print(book)"
     ],
     "language": "python",
     "metadata": {},
     "outputs": [],
     "prompt_number": 11
    },
    {
     "cell_type": "heading",
     "level": 1,
     "metadata": {},
     "source": [
      "2. Reading a .txt & .dat files"
     ]
    },
    {
     "cell_type": "markdown",
     "metadata": {},
     "source": [
      "In general you don't want to read a data file line by line and off course you don't want your data as a string.\n",
      "To read data numpy is you best option. There are two main function to do this (loadtxt and genfromtxt) they are similar \n",
      "but genfromtxt has more options, so we will use genfromtxt."
     ]
    },
    {
     "cell_type": "code",
     "collapsed": true,
     "input": [
      "import numpy as np"
     ],
     "language": "python",
     "metadata": {},
     "outputs": [],
     "prompt_number": 12
    },
    {
     "cell_type": "code",
     "collapsed": false,
     "input": [
      "data = np.genfromtxt(\"data.txt\")\n",
      "print(data)"
     ],
     "language": "python",
     "metadata": {},
     "outputs": [
      {
       "output_type": "stream",
       "stream": "stdout",
       "text": [
        "[[ 1.  2.]\n",
        " [ 3.  4.]\n",
        " [ 5.  6.]\n",
        " [ 7.  8.]]\n"
       ]
      }
     ],
     "prompt_number": 14
    },
    {
     "cell_type": "code",
     "collapsed": false,
     "input": [
      "np.shape(data) "
     ],
     "language": "python",
     "metadata": {},
     "outputs": [
      {
       "metadata": {},
       "output_type": "pyout",
       "prompt_number": 15,
       "text": [
        "(4, 2)"
       ]
      }
     ],
     "prompt_number": 15
    },
    {
     "cell_type": "markdown",
     "metadata": {},
     "source": [
      "### Exercise:\n",
      "\n",
      "Select the x column of data."
     ]
    },
    {
     "cell_type": "markdown",
     "metadata": {},
     "source": [
      "alternatively you can use:"
     ]
    },
    {
     "cell_type": "code",
     "collapsed": false,
     "input": [
      "x, y = np.genfromtxt(\"data.txt\", unpack=True)\n",
      "print(x, y)"
     ],
     "language": "python",
     "metadata": {},
     "outputs": [
      {
       "output_type": "stream",
       "stream": "stdout",
       "text": [
        "[ 1.  3.  5.  7.] [ 2.  4.  6.  8.]\n"
       ]
      }
     ],
     "prompt_number": 18
    },
    {
     "cell_type": "heading",
     "level": 1,
     "metadata": {},
     "source": [
      "3. Reading a .csv using (numpy)"
     ]
    },
    {
     "cell_type": "code",
     "collapsed": false,
     "input": [
      "data = np.genfromtxt(\"data.csv\", delimiter=\",\")\n",
      "print data"
     ],
     "language": "python",
     "metadata": {},
     "outputs": [
      {
       "ename": "SyntaxError",
       "evalue": "Missing parentheses in call to 'print' (<ipython-input-19-d2b8c122ff34>, line 2)",
       "output_type": "pyerr",
       "traceback": [
        "\u001b[0;36m  File \u001b[0;32m\"<ipython-input-19-d2b8c122ff34>\"\u001b[0;36m, line \u001b[0;32m2\u001b[0m\n\u001b[0;31m    print data\u001b[0m\n\u001b[0m             ^\u001b[0m\n\u001b[0;31mSyntaxError\u001b[0m\u001b[0;31m:\u001b[0m Missing parentheses in call to 'print'\n"
       ]
      }
     ],
     "prompt_number": 19
    },
    {
     "cell_type": "code",
     "collapsed": false,
     "input": [
      "data = np.genfromtxt(\"homicidios.1990.a.2013.csv\", delimiter=\",\")\n",
      "data[1]"
     ],
     "language": "python",
     "metadata": {},
     "outputs": [
      {
       "metadata": {},
       "output_type": "pyout",
       "prompt_number": 57,
       "text": [
        "array([  5.00100000e+03,              nan,              nan,\n",
        "         3.92400000e+03,   1.68839400e+06,              nan,\n",
        "         4.58500000e+03,   1.72176700e+06,   2.66296195e+02,\n",
        "         4.12000000e+03,   1.75671100e+06,   2.34529186e+02,\n",
        "         2.85200000e+03,   1.79349100e+06,   1.59019477e+02,\n",
        "         2.93200000e+03,   1.83219700e+06,   1.60026460e+02,\n",
        "         3.71100000e+03,   1.87224100e+06,   1.98211662e+02,\n",
        "         3.82400000e+03,   1.91286000e+06,   1.99910082e+02,\n",
        "         3.16900000e+03,   1.95329300e+06,   1.62238845e+02,\n",
        "         2.95000000e+03,   1.99278100e+06,   1.48034330e+02,\n",
        "         3.25800000e+03,   2.03056000e+06,   1.60448349e+02,\n",
        "         3.15100000e+03,   2.06587100e+06,   1.52526465e+02,\n",
        "         3.45600000e+03,   2.09861800e+06,   1.64679804e+02,\n",
        "         3.58900000e+03,   2.12987400e+06,   1.68507621e+02,\n",
        "         1.93800000e+03,   2.15960900e+06,   8.97384665e+01,\n",
        "         1.07400000e+03,   2.18783100e+06,   4.90897149e+01,\n",
        "         7.55000000e+02,   2.21449400e+06,   3.40935672e+01,\n",
        "         7.09000000e+02,   2.23900300e+06,   3.16658799e+01,\n",
        "         6.54000000e+02,   2.26524400e+06,   2.88710620e+01,\n",
        "         8.71000000e+02,   2.29137800e+06,   3.80120609e+01,\n",
        "         1.43200000e+03,   2.31733600e+06,   6.17950957e+01,\n",
        "         1.40800000e+03,   2.34304900e+06,   6.00926400e+01,\n",
        "         1.65100000e+03,   2.36828200e+06,   6.97100000e+01,\n",
        "         1.23900000e+03,   2.39301100e+06,   5.17757754e+01,\n",
        "         9.19000000e+02,   2.41732500e+06,   3.80172298e+01])"
       ]
      }
     ],
     "prompt_number": 57
    },
    {
     "cell_type": "code",
     "collapsed": true,
     "input": [
      "#filling_values = []\n",
      "#for i in range(75):\n",
      "#    filling_values.append(999)\n",
      "#data = np.genfromtxt(\"homicidios.1990.a.2013.csv\", delimiter=\",\", filling_values=filling_values)"
     ],
     "language": "python",
     "metadata": {},
     "outputs": [],
     "prompt_number": 20
    },
    {
     "cell_type": "markdown",
     "metadata": {},
     "source": [
      "http://docs.scipy.org/doc/numpy/reference/generated/numpy.genfromtxt.html\n",
      "http://bulldog2.redlands.edu/facultyfolder/deweerd/tutorials/Tutorial-ReadingWritingData.pdf"
     ]
    },
    {
     "cell_type": "heading",
     "level": 1,
     "metadata": {
      "collapsed": false
     },
     "source": [
      "4. Reading .csv using pandas"
     ]
    },
    {
     "cell_type": "code",
     "collapsed": false,
     "input": [
      "import pandas as pd \n",
      "data = pd.read_csv(\"homicidios.1990.a.2013.csv\",parse_dates=True) "
     ],
     "language": "python",
     "metadata": {},
     "outputs": [],
     "prompt_number": 2
    },
    {
     "cell_type": "code",
     "collapsed": false,
     "input": [
      "print(data)"
     ],
     "language": "python",
     "metadata": {},
     "outputs": [
      {
       "output_type": "stream",
       "stream": "stdout",
       "text": [
        "        cod               municipio departamento  hom90    pob90  \\\n",
        "0      5001                Medell\u00edn    Antioquia   3924  1688394   \n",
        "1      5002               Abejorral    Antioquia     33    24789   \n",
        "2      5004                Abriaqu\u00ed    Antioquia      5     3201   \n",
        "3      5021              Alejandr\u00eda    Antioquia      7     4851   \n",
        "4      5030                   Amag\u00e1    Antioquia     31    23606   \n",
        "5      5031                  Amalfi    Antioquia     25    18535   \n",
        "6      5034                   Andes    Antioquia     50    38759   \n",
        "7      5036             Angel\u00f3polis    Antioquia      8     6144   \n",
        "8      5038               Angostura    Antioquia     18    13133   \n",
        "9      5040                   Anor\u00ed    Antioquia     18    12351   \n",
        "10     5042    Santaf\u00e9 de Antioquia    Antioquia     28    20698   \n",
        "11     5044                    Anza    Antioquia     10     6752   \n",
        "12     5045                Apartad\u00f3    Antioquia      0    68183   \n",
        "13     5051               Arboletes    Antioquia     29    29178   \n",
        "14     5055                 Argelia    Antioquia     16    11831   \n",
        "15     5059                 Armenia    Antioquia      9     6771   \n",
        "16     5079                 Barbosa    Antioquia    281    32746   \n",
        "17     5086                 Belmira    Antioquia      7     5615   \n",
        "18     5088                   Bello    Antioquia    658   261996   \n",
        "19     5091                 Betania    Antioquia     15    12150   \n",
        "20     5093                 Betulia    Antioquia     21    15543   \n",
        "21     5101          Ciudad Bol\u00edvar    Antioquia     37    29703   \n",
        "22     5107                 Brice\u00f1o    Antioquia     12     8689   \n",
        "23     5113                Buritic\u00e1    Antioquia     10     7217   \n",
        "24     5120                 C\u00e1ceres    Antioquia     28    19756   \n",
        "25     5125                 Caicedo    Antioquia      9     6735   \n",
        "26     5129                  Caldas    Antioquia    277    51902   \n",
        "27     5134              Campamento    Antioquia     14    10118   \n",
        "28     5138             Ca\u00f1asgordas    Antioquia     27    19612   \n",
        "29     5142                Caracol\u00ed    Antioquia      9     6237   \n",
        "...     ...                     ...          ...    ...      ...   \n",
        "1092  91430       La Victoria (ANM)     Amazonas    NaN      NaN   \n",
        "1093  91460   Miriti - Paran\u00e1 (ANM)     Amazonas      0     2528   \n",
        "1094  91530    Puerto Alegr\u00eda (ANM)     Amazonas    NaN      NaN   \n",
        "1095  91536      Puerto Arica (ANM)     Amazonas    NaN      NaN   \n",
        "1096  91540           Puerto Nari\u00f1o     Amazonas      0     3632   \n",
        "1097  91669  Puerto Santander (ANM)     Amazonas      0     1600   \n",
        "1098  91798          Tarapac\u00e1 (ANM)     Amazonas      0     2135   \n",
        "1099  94001                 In\u00edrida      Guain\u00eda      0    12824   \n",
        "1100  94343    Barranco Minas (ANM)      Guain\u00eda      0     3640   \n",
        "1101  94663        Mapiripana (ANM)      Guain\u00eda    NaN      NaN   \n",
        "1102  94883        San Felipe (ANM)      Guain\u00eda      0      793   \n",
        "1103  94884   Puerto Colombia (ANM)      Guain\u00eda      0     1551   \n",
        "1104  94885      La Guadalupe (ANM)      Guain\u00eda      0      156   \n",
        "1105  94886          Cacahual (ANM)      Guain\u00eda      0      967   \n",
        "1106  94887         Pana Pana (ANM)      Guain\u00eda      0     1048   \n",
        "1107  94888          Morichal (ANM)      Guain\u00eda    NaN      NaN   \n",
        "1108  95001   San Jos\u00e9 del Guaviare     Guaviare      0    41433   \n",
        "1109  95015                 Calamar     Guaviare      0     9253   \n",
        "1110  95025              El Retorno     Guaviare      0     9921   \n",
        "1111  95200              Miraflores     Guaviare      0     8282   \n",
        "1112  97001                    Mit\u00fa       Vaup\u00e9s      0    18840   \n",
        "1113  97161                  Caruru       Vaup\u00e9s      0     3686   \n",
        "1114  97511             Pacoa (ANM)       Vaup\u00e9s      0     1888   \n",
        "1115  97666                 Taraira       Vaup\u00e9s      0      996   \n",
        "1116  97777          Papunaua (ANM)       Vaup\u00e9s      0      814   \n",
        "1117  97889          Yavarat\u00e9 (ANM)       Vaup\u00e9s      0     1212   \n",
        "1118  99001          Puerto Carre\u00f1o      Vichada      0    11801   \n",
        "1119  99524            La Primavera      Vichada      0     5508   \n",
        "1120  99624           Santa Rosal\u00eda      Vichada      0     1837   \n",
        "1121  99773                Cumaribo      Vichada      0    11838   \n",
        "\n",
        "                 tas90  hom91    pob91        tas91  hom92  ...         tas10  \\\n",
        "0     232.410207570034   4585  1721767   266.296195   4120  ...     60.092640   \n",
        "1     133.123562870628     25    24479   102.128355     22  ...     20.253165   \n",
        "2     156.201187129022      4     3214   124.455507      3  ...      0.000000   \n",
        "3     144.300144300144      5     4823   103.669915      5  ...      0.000000   \n",
        "4     131.322545115649     24    23901   100.414209     21  ...     35.170401   \n",
        "5     134.879956838414     19    18727   101.457788     17  ...     28.175628   \n",
        "6     129.002296240873     38    38818    97.892730     34  ...     25.162988   \n",
        "7     130.208333333333      6     6179    97.103091      5  ...     12.067093   \n",
        "8       137.0593162263     14    13195   106.100796     12  ...      8.382230   \n",
        "9     145.737187272286     14    12418   112.739572     12  ...     12.480499   \n",
        "10    135.278770895739     21    20836   100.787099     19  ...      8.443094   \n",
        "11    148.104265402844      7     6828   102.519039      7  ...     13.333333   \n",
        "12                   0    154    71477   215.453922    210  ...     28.698335   \n",
        "13    99.3899513331962     22    28275    77.807250     20  ...     11.359764   \n",
        "14    135.237934240554     12    11776   101.902174     11  ...     10.658708   \n",
        "15    132.919805050953      7     6683   104.743379      6  ...      0.000000   \n",
        "16    858.120075734441    384    33423  1148.909434    298  ...     49.808346   \n",
        "17      124.6660730187      5     5640    88.652482      5  ...     15.434481   \n",
        "18     251.14887250187    770   268685   286.580941    615  ...     21.297914   \n",
        "19    123.456790123457     11    12030    91.438071     10  ...     61.362242   \n",
        "20    135.109052306505     16    15623   102.413109     14  ...     23.304591   \n",
        "21    124.566542100125     28    29619    94.533914     25  ...     28.881909   \n",
        "22     138.10565082288      9     8718   103.234687      8  ...     57.175529   \n",
        "23    138.561729250381      8     7222   110.772639      7  ...     14.727541   \n",
        "24    141.729094958494     21    19953   105.247331     19  ...     69.606271   \n",
        "25    133.630289532294      7     6786   103.153551      6  ...     12.602394   \n",
        "26    533.698123386382    374    53122   704.039758    311  ...     84.822284   \n",
        "27    138.367266258154     11    10107   108.835461      9  ...     31.962497   \n",
        "28    137.670813787477     21    19638   106.935533     19  ...     17.848644   \n",
        "29    144.300144300144      7     6184   113.195343      6  ...      0.000000   \n",
        "...                ...    ...      ...          ...    ...  ...           ...   \n",
        "1092               NaN    NaN      NaN          NaN    NaN  ...           NaN   \n",
        "1093                 0    NaN     2616     0.000000    NaN  ...      0.000000   \n",
        "1094               NaN    NaN      NaN          NaN    NaN  ...           NaN   \n",
        "1095               NaN    NaN      NaN          NaN    NaN  ...           NaN   \n",
        "1096                 0    NaN     3779     0.000000    NaN  ...      0.000000   \n",
        "1097                 0    NaN     1658     0.000000    NaN  ...      0.000000   \n",
        "1098                 0    NaN     2215     0.000000    NaN  ...      0.000000   \n",
        "1099                 0      0    13320     0.000000      1  ...      5.289326   \n",
        "1100                 0    NaN     1739     0.000000    NaN  ...      0.000000   \n",
        "1101               NaN    NaN      NaN          NaN    NaN  ...           NaN   \n",
        "1102                 0    NaN      820     0.000000    NaN  ...      0.000000   \n",
        "1103                 0    NaN     1603     0.000000    NaN  ...      0.000000   \n",
        "1104                 0    NaN      161     0.000000    NaN  ...      0.000000   \n",
        "1105                 0    NaN      997     0.000000    NaN  ...      0.000000   \n",
        "1106                 0    NaN     1086     0.000000    NaN  ...      0.000000   \n",
        "1107               NaN    NaN      NaN          NaN    NaN  ...           NaN   \n",
        "1108                 0      0    43008     0.000000      7  ...     99.520950   \n",
        "1109                 0      0     9590     0.000000      0  ...    177.147919   \n",
        "1110                 0      0    10274     0.000000      0  ...     14.268728   \n",
        "1111                 0      0     8581     0.000000      0  ...    148.009660   \n",
        "1112                 0      0    19580     0.000000      0  ...      0.000000   \n",
        "1113                 0    NaN     3828     0.000000    NaN  ...      0.000000   \n",
        "1114                 0    NaN     1955     0.000000    NaN  ...      0.000000   \n",
        "1115                 0    NaN     1039     0.000000    NaN  ...      0.000000   \n",
        "1116                 0    NaN      845     0.000000    NaN  ...      0.000000   \n",
        "1117                 0    NaN     1257     0.000000    NaN  ...      0.000000   \n",
        "1118                 0      0    12266     0.000000      5  ...     48.202727   \n",
        "1119                 0      0     5705     0.000000      2  ...     15.594542   \n",
        "1120                 0      0     1903     0.000000      0  ...     81.989615   \n",
        "1121                 0      0    12297     0.000000      0  ...     45.922116   \n",
        "\n",
        "      hom11    pob11   tas11  hom12    pob12       tas12  hom13    pob13  \\\n",
        "0      1651  2368282   69.71   1239  2393011   51.775775    919  2417325   \n",
        "1         6    19672   30.50      7    19570   35.769034      6    19478   \n",
        "2         0     2336    0.00      0     2290    0.000000      0     2231   \n",
        "3         0     3618    0.00      0     3575    0.000000      1     3550   \n",
        "4        34    28664  118.62     15    28897   51.908503     25    29117   \n",
        "5        19    21449   88.58      9    21615   41.637752     14    21768   \n",
        "6        27    44149   61.16     11    44573   24.678617     31    44994   \n",
        "7         2     8415   23.77      6     8551   70.167232      7     8680   \n",
        "8         6    11811   50.80      2    11695   17.101325      1    11579   \n",
        "9        25    16237  153.97      6    16447   36.480817     13    16658   \n",
        "10       13    23858   54.49     10    24025   41.623309     13    24202   \n",
        "11        2     7515   26.61      0     7529    0.000000      4     7543   \n",
        "12       91   158059   57.57     43   162914   26.394294     36   167895   \n",
        "13        3    36149    8.30      7    37124   18.855727      6    38100   \n",
        "14        1     9240   11.00      1     9108   10.979359      2     8968   \n",
        "15        2     4578   43.69      2     4484   44.603033      4     4383   \n",
        "16       47    46954  100.10     46    47722   96.391601     45    48503   \n",
        "17        0     6534    0.00      2     6590   30.349014      7     6645   \n",
        "18       97   421576   23.01    117   430034   27.207151     92   438577   \n",
        "19        3     9688   30.97      2     9586   20.863760      1     9487   \n",
        "20        9    17245   52.19      1    17317    5.774672      9    17409   \n",
        "21        9    27579   32.63      8    27458   29.135407     22    27335   \n",
        "22       23     8737  263.25      5     8728   57.286893     12     8720   \n",
        "23        2     6758   29.59      1     6716   14.889815      6     6689   \n",
        "24       43    33950  126.66     12    34865   34.418471     28    35823   \n",
        "25        4     7992   50.05      1     8050   12.422360      2     8099   \n",
        "26       62    74069   83.71     34    75033   45.313395     34    75984   \n",
        "27       11     9330  117.90      4     9270   43.149946      4     9209   \n",
        "28        3    16808   17.85      3    16793   17.864586      3    16780   \n",
        "29        0     4700    0.00      1     4671   21.408692      1     4646   \n",
        "...     ...      ...     ...    ...      ...         ...    ...      ...   \n",
        "1092      0     1054    0.00      0     1066    0.000000      0     1078   \n",
        "1093      0     1565    0.00      0     1555    0.000000      0     1546   \n",
        "1094      0     1645    0.00      0     1715    0.000000      0     1788   \n",
        "1095      0     1389    0.00      0     1380    0.000000      0     1370   \n",
        "1096      1     7691   13.00      0     7808    0.000000      0     7925   \n",
        "1097      0     2701    0.00      0     2758    0.000000      0     2815   \n",
        "1098      2     4033   49.59      0     4074    0.000000      0     4114   \n",
        "1099      1    19096    5.24      0    19282    0.000000      5    19464   \n",
        "1100      0     4686    0.00      0     4732    0.000000      0     4776   \n",
        "1101      0     2949    0.00      0     2924    0.000000      0     2898   \n",
        "1102      0     1748    0.00      0     1819    0.000000      0     1894   \n",
        "1103      0     4342    0.00      0     4440    0.000000      0     4538   \n",
        "1104      0      298    0.00      0      312    0.000000      0      326   \n",
        "1105      0     2081    0.00      0     2173    0.000000      0     2270   \n",
        "1106      0     2755    0.00      0     2851    0.000000      0     2948   \n",
        "1107      0      994    0.00      0     1041    0.000000      0     1089   \n",
        "1108     30    60334   49.72     34    61383   55.389929     42    62437   \n",
        "1109      3     9948   30.16     10     9734  102.732690      6     9519   \n",
        "1110      6    21414   28.02      7    21803   32.105674      4    22192   \n",
        "1111      1    13150    7.60      1    13466    7.426110     10    13786   \n",
        "1112      0    30349    0.00      1    30658    3.261791      2    30962   \n",
        "1113      1     3304   30.27      0     3310    0.000000      0     3317   \n",
        "1114      0     5189    0.00      0     5316    0.000000      0     5445   \n",
        "1115      0     1007    0.00      0     1000    0.000000      0      992   \n",
        "1116      0      861    0.00      0      857    0.000000      0      853   \n",
        "1117      0     1255    0.00      0     1251    0.000000      0     1248   \n",
        "1118      7    14767   47.40      4    15012   26.645350      6    15258   \n",
        "1119      0    13301    0.00      4    13791   29.004423      4    14294   \n",
        "1120      0     3734    0.00      0     3807    0.000000      0     3877   \n",
        "1121      3    33480    8.96     19    34307   55.382283      8    35146   \n",
        "\n",
        "           tas13  \n",
        "0      38.017230  \n",
        "1      30.803984  \n",
        "2       0.000000  \n",
        "3      28.169014  \n",
        "4      85.860494  \n",
        "5      64.314590  \n",
        "6      68.898075  \n",
        "7      80.645161  \n",
        "8       8.636324  \n",
        "9      78.040581  \n",
        "10     53.714569  \n",
        "11     53.029299  \n",
        "12     21.441973  \n",
        "13     15.748031  \n",
        "14     22.301517  \n",
        "15     91.261693  \n",
        "16     92.777766  \n",
        "17    105.342363  \n",
        "18     20.976932  \n",
        "19     10.540740  \n",
        "20     51.697398  \n",
        "21     80.482897  \n",
        "22    137.614679  \n",
        "23     89.699507  \n",
        "24     78.162075  \n",
        "25     24.694407  \n",
        "26     44.746262  \n",
        "27     43.435769  \n",
        "28     17.878427  \n",
        "29     21.523892  \n",
        "...          ...  \n",
        "1092    0.000000  \n",
        "1093    0.000000  \n",
        "1094    0.000000  \n",
        "1095    0.000000  \n",
        "1096    0.000000  \n",
        "1097    0.000000  \n",
        "1098    0.000000  \n",
        "1099   25.688450  \n",
        "1100    0.000000  \n",
        "1101    0.000000  \n",
        "1102    0.000000  \n",
        "1103    0.000000  \n",
        "1104    0.000000  \n",
        "1105    0.000000  \n",
        "1106    0.000000  \n",
        "1107    0.000000  \n",
        "1108   67.267806  \n",
        "1109   63.031831  \n",
        "1110   18.024513  \n",
        "1111   72.537357  \n",
        "1112    6.459531  \n",
        "1113    0.000000  \n",
        "1114    0.000000  \n",
        "1115    0.000000  \n",
        "1116    0.000000  \n",
        "1117    0.000000  \n",
        "1118   39.323634  \n",
        "1119   27.983769  \n",
        "1120    0.000000  \n",
        "1121   22.762192  \n",
        "\n",
        "[1122 rows x 75 columns]\n"
       ]
      }
     ],
     "prompt_number": 3
    },
    {
     "cell_type": "code",
     "collapsed": false,
     "input": [
      "dateparse = lambda x: pd.datetime.strptime(x, '%Y-%m-%d')\n",
      "copusd = pd.read_csv(\"COPUSD.csv\",parse_dates=['Date'], date_parser=dateparse)"
     ],
     "language": "python",
     "metadata": {},
     "outputs": [],
     "prompt_number": 10
    },
    {
     "cell_type": "code",
     "collapsed": false,
     "input": [
      "print(copusd)"
     ],
     "language": "python",
     "metadata": {},
     "outputs": [
      {
       "output_type": "stream",
       "stream": "stdout",
       "text": [
        "           Date     Rate  High (est)  Low (est)    Yr\n",
        "0    2015-02-23  2440.56      2470.7     2410.8  2015\n",
        "1    2015-02-20  2419.04      2446.9     2391.5  2015\n",
        "2    2015-02-19  2410.38      2437.7     2383.4  2015\n",
        "3    2015-02-18  2400.53      2427.0     2374.4  2015\n",
        "4    2015-02-17  2386.01         0.0        0.0  2015\n",
        "5    2015-02-16  2386.62         0.0        0.0  2015\n",
        "6    2015-02-13  2383.67         0.0        0.0  2015\n",
        "7    2015-02-12  2372.41         0.0        0.0  2015\n",
        "8    2015-02-11  2381.00         0.0        0.0  2015\n",
        "9    2015-02-10  2385.58      2411.9     2359.5  2015\n",
        "10   2015-02-09  2382.23      2409.7     2355.1  2015\n",
        "11   2015-02-06  2382.18         0.0        0.0  2015\n",
        "12   2015-02-05  2378.47         0.0        0.0  2015\n",
        "13   2015-02-04  2392.17         0.0        0.0  2015\n",
        "14   2015-02-03  2418.97         0.0        0.0  2015\n",
        "15   2015-02-02  2407.00      2435.0     2379.4  2015\n",
        "16   2015-01-30  2377.36      2406.5     2348.6  2015\n",
        "17   2015-01-29  2377.82         0.0        0.0  2015\n",
        "18   2015-01-28  2383.54      2409.8     2357.6  2015\n",
        "19   2015-01-27  2380.43      2407.6     2353.6  2015\n",
        "20   2015-01-26  2380.67      2408.3     2353.3  2015\n",
        "21   2015-01-23  2370.09         0.0        0.0  2015\n",
        "22   2015-01-22  2366.19         0.0        0.0  2015\n",
        "23   2015-01-21  2374.93         0.0        0.0  2015\n",
        "24   2015-01-20  2384.04      2411.0     2357.4  2015\n",
        "25   2015-01-19  2387.21         0.0        0.0  2015\n",
        "26   2015-01-16  2414.37         0.0        0.0  2015\n",
        "27   2015-01-15  2407.44         0.0        0.0  2015\n",
        "28   2015-01-14  2407.44      2436.7     2378.6  2015\n",
        "29   2015-01-13  2399.07      2425.5     2372.9  2015\n",
        "...         ...      ...         ...        ...   ...\n",
        "3921 2000-02-11  1950.64      1973.5     1928.0  2000\n",
        "3922 2000-02-10  1951.09         0.0        0.0  2000\n",
        "3923 2000-02-09  1949.77         0.0        0.0  2000\n",
        "3924 2000-02-08  1951.86      1974.2     1929.8  2000\n",
        "3925 2000-02-07  1951.57      1974.0     1929.4  2000\n",
        "3926 2000-02-04  1953.99      1976.0     1932.2  2000\n",
        "3927 2000-02-03  1967.86      1991.6     1944.4  2000\n",
        "3928 2000-02-02  1971.26         0.0        0.0  2000\n",
        "3929 2000-02-01  1972.14      1993.9     1950.6  2000\n",
        "3930 2000-01-31  1969.90      1993.3     1946.8  2000\n",
        "3931 2000-01-28  1973.40      1996.0     1951.1  2000\n",
        "3932 2000-01-27  1958.34      1981.7     1935.2  2000\n",
        "3933 2000-01-26  1945.34      1967.7     1923.2  2000\n",
        "3934 2000-01-25  1940.69      1963.3     1918.3  2000\n",
        "3935 2000-01-24  1935.70         0.0        0.0  2000\n",
        "3936 2000-01-21  1936.49         0.0        0.0  2000\n",
        "3937 2000-01-20  1939.69      1961.5     1918.1  2000\n",
        "3938 2000-01-19  1931.36      1952.9     1910.0  2000\n",
        "3939 2000-01-18  1923.79      1947.5     1900.4  2000\n",
        "3940 2000-01-17  1918.55         0.0        0.0  2000\n",
        "3941 2000-01-14  1909.89         0.0        0.0  2000\n",
        "3942 2000-01-13  1905.51      1926.8     1884.4  2000\n",
        "3943 2000-01-12  1903.53         0.0        0.0  2000\n",
        "3944 2000-01-11  1901.98         0.0        0.0  2000\n",
        "3945 2000-01-10  1905.26         0.0        0.0  2000\n",
        "3946 2000-01-07  1908.11         0.0        0.0  2000\n",
        "3947 2000-01-06  1909.88         0.0        0.0  2000\n",
        "3948 2000-01-05  1900.86      1924.6     1877.4  2000\n",
        "3949 2000-01-04  1881.13      1904.2     1858.4  2000\n",
        "3950 2000-01-03  1876.32      1897.1     1855.7  2000\n",
        "\n",
        "[3951 rows x 5 columns]\n"
       ]
      }
     ],
     "prompt_number": 11
    },
    {
     "cell_type": "code",
     "collapsed": false,
     "input": [
      "import matplotlib.pyplot as plt"
     ],
     "language": "python",
     "metadata": {},
     "outputs": [],
     "prompt_number": 6
    },
    {
     "cell_type": "code",
     "collapsed": false,
     "input": [
      "copusd.describe()"
     ],
     "language": "python",
     "metadata": {},
     "outputs": [
      {
       "html": [
        "<div style=\"max-height:1000px;max-width:1500px;overflow:auto;\">\n",
        "<table border=\"1\" class=\"dataframe\">\n",
        "  <thead>\n",
        "    <tr style=\"text-align: right;\">\n",
        "      <th></th>\n",
        "      <th>Rate</th>\n",
        "      <th>High (est)</th>\n",
        "      <th>Low (est)</th>\n",
        "      <th>Yr</th>\n",
        "    </tr>\n",
        "  </thead>\n",
        "  <tbody>\n",
        "    <tr>\n",
        "      <th>count</th>\n",
        "      <td> 3951.000000</td>\n",
        "      <td> 3951.000000</td>\n",
        "      <td> 3951.000000</td>\n",
        "      <td> 3951.000000</td>\n",
        "    </tr>\n",
        "    <tr>\n",
        "      <th>mean</th>\n",
        "      <td> 2181.509099</td>\n",
        "      <td> 1277.282106</td>\n",
        "      <td> 1247.837105</td>\n",
        "      <td> 2007.077955</td>\n",
        "    </tr>\n",
        "    <tr>\n",
        "      <th>std</th>\n",
        "      <td>  325.795108</td>\n",
        "      <td> 1114.570376</td>\n",
        "      <td> 1088.871667</td>\n",
        "      <td>    4.369862</td>\n",
        "    </tr>\n",
        "    <tr>\n",
        "      <th>min</th>\n",
        "      <td> 1661.010000</td>\n",
        "      <td>    0.000000</td>\n",
        "      <td>    0.000000</td>\n",
        "      <td> 2000.000000</td>\n",
        "    </tr>\n",
        "    <tr>\n",
        "      <th>25%</th>\n",
        "      <td> 1905.340000</td>\n",
        "      <td>    0.000000</td>\n",
        "      <td>    0.000000</td>\n",
        "      <td> 2003.000000</td>\n",
        "    </tr>\n",
        "    <tr>\n",
        "      <th>50%</th>\n",
        "      <td> 2161.700000</td>\n",
        "      <td> 1846.900000</td>\n",
        "      <td> 1804.800000</td>\n",
        "      <td> 2007.000000</td>\n",
        "    </tr>\n",
        "    <tr>\n",
        "      <th>75%</th>\n",
        "      <td> 2343.845000</td>\n",
        "      <td> 2268.800000</td>\n",
        "      <td> 2216.550000</td>\n",
        "      <td> 2011.000000</td>\n",
        "    </tr>\n",
        "    <tr>\n",
        "      <th>max</th>\n",
        "      <td> 2963.820000</td>\n",
        "      <td> 3000.300000</td>\n",
        "      <td> 2928.000000</td>\n",
        "      <td> 2015.000000</td>\n",
        "    </tr>\n",
        "  </tbody>\n",
        "</table>\n",
        "</div>"
       ],
       "metadata": {},
       "output_type": "pyout",
       "prompt_number": 7,
       "text": [
        "              Rate   High (est)    Low (est)           Yr\n",
        "count  3951.000000  3951.000000  3951.000000  3951.000000\n",
        "mean   2181.509099  1277.282106  1247.837105  2007.077955\n",
        "std     325.795108  1114.570376  1088.871667     4.369862\n",
        "min    1661.010000     0.000000     0.000000  2000.000000\n",
        "25%    1905.340000     0.000000     0.000000  2003.000000\n",
        "50%    2161.700000  1846.900000  1804.800000  2007.000000\n",
        "75%    2343.845000  2268.800000  2216.550000  2011.000000\n",
        "max    2963.820000  3000.300000  2928.000000  2015.000000"
       ]
      }
     ],
     "prompt_number": 7
    },
    {
     "cell_type": "heading",
     "level": 1,
     "metadata": {},
     "source": [
      "5. Plotting a CSV"
     ]
    },
    {
     "cell_type": "code",
     "collapsed": false,
     "input": [
      "copusd_value = copusd[['Rate','Date']]\n",
      "plt.figure()\n",
      "copusd_value.plot()"
     ],
     "language": "python",
     "metadata": {},
     "outputs": [
      {
       "metadata": {},
       "output_type": "pyout",
       "prompt_number": 16,
       "text": [
        "<matplotlib.axes._subplots.AxesSubplot at 0x1083a71d0>"
       ]
      },
      {
       "metadata": {},
       "output_type": "display_data",
       "text": [
        "<matplotlib.figure.Figure at 0x1084788d0>"
       ]
      },
      {
       "metadata": {},
       "output_type": "display_data",
       "png": "[encoded data removed]",
       "text": [
        "<matplotlib.figure.Figure at 0x10839e160>"
       ]
      }
     ],
     "prompt_number": 16
    },
    {
     "cell_type": "code",
     "collapsed": false,
     "input": [
      "df = pd.DataFrame(rand(10, 5), columns=['A', 'B', 'C', 'D', 'E'])"
     ],
     "language": "python",
     "metadata": {},
     "outputs": [],
     "prompt_number": 18
    },
    {
     "cell_type": "code",
     "collapsed": false,
     "input": [
      "df.plot()"
     ],
     "language": "python",
     "metadata": {},
     "outputs": [
      {
       "metadata": {},
       "output_type": "pyout",
       "prompt_number": 19,
       "text": [
        "<matplotlib.axes._subplots.AxesSubplot at 0x1083324a8>"
       ]
      },
      {
       "metadata": {},
       "output_type": "display_data",
       "png": "[encoded data removed]",
       "text": [
        "<matplotlib.figure.Figure at 0x108516518>"
       ]
      }
     ],
     "prompt_number": 19
    }
   ],
   "metadata": {}
  }
 ]
}