{
 "metadata": {
  "name": "Normal_Distribution"
 },
 "nbformat": 3,
 "nbformat_minor": 0,
 "worksheets": [
  {
   "cells": [
    {
     "cell_type": "markdown",
     "metadata": {},
     "source": [
      "#Normal Distribution\n",
      "\n",
      "$f(x, \\mu, \\sigma) = \\dfrac{1}{\\sigma \\sqrt(2\\pi)} e^{-\\dfrac{(x-\\mu)^2}{2\\sigma^2}} $\n",
      "\n",
      "donde $\\sigma$ es la desviacion estandar y $\\mu$ la media de los datos $x$\n",
      "\n",
      "Es una funci\u00f3n de distribucion de probabilidad que esta totalmente determinada por los parametros $\\mu$ y $\\sigma$. \n",
      "\n",
      "La funcion es simetrica alrededor de $\\mu$"
     ]
    },
    {
     "cell_type": "code",
     "collapsed": false,
     "input": [
      "%pylab inline"
     ],
     "language": "python",
     "metadata": {},
     "outputs": [
      {
       "output_type": "stream",
       "stream": "stdout",
       "text": [
        "\n",
        "Welcome to pylab, a matplotlib-based Python environment [backend: module://IPython.zmq.pylab.backend_inline].\n",
        "For more information, type 'help(pylab)'.\n"
       ]
      }
     ],
     "prompt_number": 1
    },
    {
     "cell_type": "code",
     "collapsed": false,
     "input": [
      "x = np.random.normal(0.0, 1.0, 1000)\n",
      "y = np.random.normal(0.0, 2.0, 1000)\n",
      "w = np.random.normal(0.0, 3.0, 1000)\n",
      "z = np.random.normal(0.0, 4.0, 1000)"
     ],
     "language": "python",
     "metadata": {},
     "outputs": [],
     "prompt_number": 2
    },
    {
     "cell_type": "code",
     "collapsed": false,
     "input": [
      "histo = hist(z)\n",
      "histo = hist(w)\n",
      "histo = hist(y)\n",
      "histo = hist(x)\n",
      "\n",
      "title(\"Distribuciones normales con firente sigma\", fontsize=20)"
     ],
     "language": "python",
     "metadata": {},
     "outputs": [
      {
       "output_type": "pyout",
       "prompt_number": 3,
       "text": [
        "<matplotlib.text.Text at 0x2ed61d0>"
       ]
      },
      {
       "output_type": "display_data",
       "png": "[encoded data removed]"
      }
     ],
     "prompt_number": 3
    },
    {
     "cell_type": "code",
     "collapsed": false,
     "input": [
      "data = hist2d(x, y, bins=40)"
     ],
     "language": "python",
     "metadata": {},
     "outputs": [
      {
       "output_type": "display_data",
       "png": "[encoded data removed]"
      }
     ],
     "prompt_number": 4
    },
    {
     "cell_type": "markdown",
     "metadata": {},
     "source": [
      "#Intervalo de confianza\n",
      "\n",
      "$\\sigma_1$ = 68% de los datos van a estar dentro de 1 $\\sigma$\n",
      "\n",
      "$\\sigma_2$ = 95% de los datos van a estar dentro de 2 $\\sigma$\n",
      "\n",
      "$\\sigma_3$ = 99.7% de los datos van a estar dentro de 3 $\\sigma$\n",
      "\n",
      "\n",
      "\n"
     ]
    },
    {
     "cell_type": "markdown",
     "metadata": {},
     "source": [
      "#Ejemplo:"
     ]
    },
    {
     "cell_type": "code",
     "collapsed": false,
     "input": [
      "def dados(N_trials):\n",
      "    i=0\n",
      "    suma = []\n",
      "    while i < N_trials:\n",
      "        i+=1\n",
      "        x = np.random.randint(1, 7)\n",
      "        y = np.random.randint(1, 7)\n",
      "        s = x+y\n",
      "        suma.append(s)"
     ],
     "language": "python",
     "metadata": {},
     "outputs": [],
     "prompt_number": 5
    },
    {
     "cell_type": "code",
     "collapsed": false,
     "input": [
      "dados(1000000)"
     ],
     "language": "python",
     "metadata": {},
     "outputs": [],
     "prompt_number": 6
    },
    {
     "cell_type": "code",
     "collapsed": false,
     "input": [
      "hist(suma, bins=11)\n",
      "xlabel(Suma de los dados)\n",
      "ylabel()"
     ],
     "language": "python",
     "metadata": {},
     "outputs": [
      {
       "ename": "SyntaxError",
       "evalue": "invalid syntax (<ipython-input-7-4a1a5771c40f>, line 2)",
       "output_type": "pyerr",
       "traceback": [
        "\u001b[0;36m  File \u001b[0;32m\"<ipython-input-7-4a1a5771c40f>\"\u001b[0;36m, line \u001b[0;32m2\u001b[0m\n\u001b[0;31m    xlabel(Suma de los dados)\u001b[0m\n\u001b[0m                 ^\u001b[0m\n\u001b[0;31mSyntaxError\u001b[0m\u001b[0;31m:\u001b[0m invalid syntax\n"
       ]
      }
     ],
     "prompt_number": 7
    },
    {
     "cell_type": "markdown",
     "metadata": {},
     "source": [
      "#Ejercicio:\n",
      "\n",
      "1. Hacer una funci\u00f3n que realize lanzamientos aleatorios de una moneda. La funcion debe generalizarse para que sean N lanzamientos \n",
      "y M mediciones. (30 puntos)\n",
      "2. haga un histograma mostrando la fraccion de resultados que son cara. (10 puntos)\n",
      "3. \u00bfEn que intervalo de confianza estan las fracciones anteriores? (10)\n"
     ]
    }
   ],
   "metadata": {}
  }
 ]
}